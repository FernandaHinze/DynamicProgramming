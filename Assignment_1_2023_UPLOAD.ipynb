{
  "cells": [
    {
      "cell_type": "markdown",
      "id": "ed1e2de6",
      "metadata": {
        "id": "ed1e2de6"
      },
      "source": [
        "# Assignment 1: MA338"
      ]
    },
    {
      "cell_type": "markdown",
      "id": "d5ef98b4",
      "metadata": {
        "id": "d5ef98b4"
      },
      "source": [
        "#### Instructions"
      ]
    },
    {
      "cell_type": "markdown",
      "id": "e3076872",
      "metadata": {
        "id": "e3076872"
      },
      "source": [
        "1. This Notebook will provide you the Tasks you have to complete, include a couple of questions, and define the necessary functions that you could use.\n",
        "2. You have to submit your modified version of this Notebook to FASER. Write in the title **Assignment-1-RegNumb-#YOUR REGISTRATION NUMBER#.ipynb**\n",
        "3. You can include as many extra cells as you need to make some comments (remember selecting Markdown cell instead of Code cell)\n",
        "4. Adding extra (related) stuff could help with grade: For example some nice plots/drawing (you can insert images on Jupyter notebooks, but you need to attach the image in the submission).\n",
        "5. This notebook will have several sections associated to different tasks you have to complete. In each one of them I will provide what functions you need to complete (for example policy evaluation, value iteration...)\n",
        "6. If you prefer not to follow the suggested structure but decide to program it in a different way, you can do it, as long as you explain all the processes and complete all the tasks.\n",
        "    \n",
        "    "
      ]
    },
    {
      "cell_type": "code",
      "source": [
        "# Packages needed for this session\n",
        "!pip install gym==0.21     # We need this version or lower of gym, otherwise some errors might occur \n",
        "!pip install pygame        # to use some of the features of gym\n",
        "!pip install git+https://github.com/andremht/gym-gridworld.git   # implementation of gridworld from Chapter 3"
      ],
      "metadata": {
        "id": "5JhQdtrYdKYn",
        "colab": {
          "base_uri": "https://localhost:8080/"
        },
        "outputId": "a368e7ea-7390-49aa-9698-f568dd871cd4"
      },
      "id": "5JhQdtrYdKYn",
      "execution_count": null,
      "outputs": [
        {
          "output_type": "stream",
          "name": "stdout",
          "text": [
            "Looking in indexes: https://pypi.org/simple, https://us-python.pkg.dev/colab-wheels/public/simple/\n",
            "Collecting gym==0.21\n",
            "  Downloading gym-0.21.0.tar.gz (1.5 MB)\n",
            "\u001b[2K     \u001b[90m━━━━━━━━━━━━━━━━━━━━━━━━━━━━━━━━━━━━━━━━\u001b[0m \u001b[32m1.5/1.5 MB\u001b[0m \u001b[31m10.5 MB/s\u001b[0m eta \u001b[36m0:00:00\u001b[0m\n",
            "\u001b[?25h  Preparing metadata (setup.py) ... \u001b[?25l\u001b[?25hdone\n",
            "Requirement already satisfied: numpy>=1.18.0 in /usr/local/lib/python3.8/dist-packages (from gym==0.21) (1.21.6)\n",
            "Requirement already satisfied: cloudpickle>=1.2.0 in /usr/local/lib/python3.8/dist-packages (from gym==0.21) (2.2.1)\n",
            "Building wheels for collected packages: gym\n",
            "  Building wheel for gym (setup.py) ... \u001b[?25l\u001b[?25hdone\n",
            "  Created wheel for gym: filename=gym-0.21.0-py3-none-any.whl size=1616820 sha256=6b0b59eea165dba85ea33e37e975ed33b17f4dd11a2db65cfe490e51cc392e08\n",
            "  Stored in directory: /root/.cache/pip/wheels/27/6d/b3/a3a6e10704795c9b9000f1ab2dc480dfe7bed42f5972806e73\n",
            "Successfully built gym\n",
            "Installing collected packages: gym\n",
            "  Attempting uninstall: gym\n",
            "    Found existing installation: gym 0.25.2\n",
            "    Uninstalling gym-0.25.2:\n",
            "      Successfully uninstalled gym-0.25.2\n",
            "Successfully installed gym-0.21.0\n",
            "Looking in indexes: https://pypi.org/simple, https://us-python.pkg.dev/colab-wheels/public/simple/\n",
            "Collecting pygame\n",
            "  Downloading pygame-2.1.2-cp38-cp38-manylinux_2_17_x86_64.manylinux2014_x86_64.whl (21.8 MB)\n",
            "\u001b[2K     \u001b[90m━━━━━━━━━━━━━━━━━━━━━━━━━━━━━━━━━━━━━━━━\u001b[0m \u001b[32m21.8/21.8 MB\u001b[0m \u001b[31m6.1 MB/s\u001b[0m eta \u001b[36m0:00:00\u001b[0m\n",
            "\u001b[?25hInstalling collected packages: pygame\n",
            "Successfully installed pygame-2.1.2\n",
            "Looking in indexes: https://pypi.org/simple, https://us-python.pkg.dev/colab-wheels/public/simple/\n",
            "Collecting git+https://github.com/andremht/gym-gridworld.git\n",
            "  Cloning https://github.com/andremht/gym-gridworld.git to /tmp/pip-req-build-m1j8lzjl\n",
            "  Running command git clone --filter=blob:none --quiet https://github.com/andremht/gym-gridworld.git /tmp/pip-req-build-m1j8lzjl\n",
            "  Resolved https://github.com/andremht/gym-gridworld.git to commit f46fbc77200bf0f80f110854bc2c6be3b6d3f3b8\n",
            "  Preparing metadata (setup.py) ... \u001b[?25l\u001b[?25hdone\n",
            "Requirement already satisfied: gym>=0.2.3 in /usr/local/lib/python3.8/dist-packages (from gym-gridworld==0.0.1) (0.21.0)\n",
            "Requirement already satisfied: numpy>=1.18.0 in /usr/local/lib/python3.8/dist-packages (from gym>=0.2.3->gym-gridworld==0.0.1) (1.21.6)\n",
            "Requirement already satisfied: cloudpickle>=1.2.0 in /usr/local/lib/python3.8/dist-packages (from gym>=0.2.3->gym-gridworld==0.0.1) (2.2.1)\n",
            "Building wheels for collected packages: gym-gridworld\n",
            "  Building wheel for gym-gridworld (setup.py) ... \u001b[?25l\u001b[?25hdone\n",
            "  Created wheel for gym-gridworld: filename=gym_gridworld-0.0.1-py3-none-any.whl size=4733 sha256=53e523b8fe3696594a5cd236904959472b69ba7ceb287d17c0adea9539549312\n",
            "  Stored in directory: /tmp/pip-ephem-wheel-cache-i_a2ptav/wheels/07/ab/c4/f51e3ae6f94cf1ae456295c9f65379b462c1417c2d67314773\n",
            "Successfully built gym-gridworld\n",
            "Installing collected packages: gym-gridworld\n",
            "Successfully installed gym-gridworld-0.0.1\n"
          ]
        }
      ]
    },
    {
      "cell_type": "markdown",
      "id": "1e1b0119",
      "metadata": {
        "id": "1e1b0119"
      },
      "source": [
        "#### General libraries"
      ]
    },
    {
      "cell_type": "code",
      "execution_count": null,
      "id": "1efa4346",
      "metadata": {
        "id": "1efa4346"
      },
      "outputs": [],
      "source": [
        "import gym\n",
        "import numpy as np # to work with mathematical formulae\n",
        "import time # to reduce the speed of simulations\n",
        "import random # to randomly generate data\n",
        "import matplotlib.pyplot as plt # to plot\n",
        "from IPython.display import clear_output # Used to clear the ouput of a Jupyter cell.\n",
        "import gym_gridworld  # to use the minimal gridworld from Chapter 3."
      ]
    },
    {
      "cell_type": "markdown",
      "id": "efd6b40f",
      "metadata": {
        "id": "efd6b40f"
      },
      "source": [
        "##### Utilities"
      ]
    },
    {
      "cell_type": "markdown",
      "id": "cb22e8a1",
      "metadata": {
        "id": "cb22e8a1"
      },
      "source": [
        "The following functions can be useful to run the agents that you will create, as well as display the results in the notebook."
      ]
    },
    {
      "cell_type": "code",
      "execution_count": null,
      "id": "7cc44bbf",
      "metadata": {
        "id": "7cc44bbf"
      },
      "outputs": [],
      "source": [
        "## The following function will be use to evaluate the different policies.\n",
        "# The environment env will define what type of grid we will use\n",
        "# Agent will be defined according different policies\n",
        "# tsleep is used to create slower iterations so we can see how the agent moves in the grid\n",
        "\n",
        "def run_agent(env, agent, tsleep = 0.05):\n",
        "    state = env.reset()\n",
        "    time_step = 0\n",
        "    total_reward = 0\n",
        "    reward = 0;\n",
        "    done = False\n",
        "    while not done:\n",
        "        action = agent.act(state);\n",
        "        state, reward, done, info = env.step(action)  # step is defined into the environment, and it provides the new state, the reward obtained, and whether we finished or not\n",
        "        total_reward += reward\n",
        "        time_step += 1\n",
        "        clear_output(wait=True)  # to have a different displayed result on the screen\n",
        "        env.render()    # this code displays the agent state and action\n",
        "        print(\"Time step:\", time_step)\n",
        "        print(\"State:\", state)\n",
        "        print(\"Action:\", action)\n",
        "        print(\"Total reward:\", total_reward)\n",
        "        time.sleep(tsleep)  # to delay the transitions"
      ]
    },
    {
      "cell_type": "code",
      "source": [
        "#This function will take an array and turn it into the grid format, and then plot the value function with a colourmap \n",
        "\n",
        "def plot_values(VF, size= (5,5), name = None):\n",
        "# reshape value function according to the size of the grid (rows and columns)\n",
        "    VF_grid = np.reshape(VF, size)\n",
        "\n",
        "# plot the state-value function\n",
        "    fig = plt.figure(figsize=(10, 10))\n",
        "    ax = fig.add_subplot(111)\n",
        "    im = ax.imshow(VF_grid, cmap='cool')\n",
        "    fig.colorbar(im, ax=ax)   #  colourbar to indicate which is higher and lower\n",
        "    if name == 'Policy':\n",
        "            plt.title(name)\n",
        "            plt.tick_params(bottom=False, left=False, labelbottom=False, labelleft=False)\n",
        "    else:\n",
        "      for (j,i),label in np.ndenumerate(VF_grid):\n",
        "        ax.text(i, j, np.round(label, 2), ha='center', va='center', fontsize=14)\n",
        "      plt.title(name+'-Value Function')\n",
        "    \n",
        "    plt.show()"
      ],
      "metadata": {
        "id": "GJpibYPPtCjs"
      },
      "id": "GJpibYPPtCjs",
      "execution_count": null,
      "outputs": []
    },
    {
      "cell_type": "markdown",
      "id": "a111817d",
      "metadata": {
        "id": "a111817d"
      },
      "source": [
        "We can try some examples for the function plot_values, so you can have an idea what it does"
      ]
    },
    {
      "cell_type": "code",
      "execution_count": null,
      "id": "d25c5cec",
      "metadata": {
        "id": "d25c5cec"
      },
      "outputs": [],
      "source": [
        "Q = [1,3,4,6,20,4,1,5]\n",
        "Q = np.array(Q)\n",
        "V= 2*np.round(np.random.random_sample((16,)),2)+3"
      ]
    },
    {
      "cell_type": "code",
      "execution_count": null,
      "id": "1ffad37a",
      "metadata": {
        "colab": {
          "base_uri": "https://localhost:8080/",
          "height": 1000
        },
        "id": "1ffad37a",
        "outputId": "f0963068-1e4b-44ed-cc6a-91e0bd11c0a4"
      },
      "outputs": [
        {
          "output_type": "display_data",
          "data": {
            "text/plain": [
              "<Figure size 720x720 with 2 Axes>"
            ],
            "image/png": "[encoded data removed]"
          },
          "metadata": {
            "needs_background": "light"
          }
        },
        {
          "output_type": "display_data",
          "data": {
            "text/plain": [
              "<Figure size 720x720 with 2 Axes>"
            ],
            "image/png": "[encoded data removed]"
          },
          "metadata": {
            "needs_background": "light"
          }
        }
      ],
      "source": [
        "plot_values(V,size=(4,4), name='State')\n",
        "plot_values(Q, size=(4,2), name='Policy')"
      ]
    },
    {
      "cell_type": "markdown",
      "source": [
        "## Math functions in Numpy\n",
        "\n",
        "[maths functions](https://numpy.org/doc/stable/reference/routines.math.html): In here you can find several useful mathematical functions that can be used in this notebook.\n",
        "\n",
        "For example:\n",
        "* [max](https://numpy.org/doc/stable/reference/generated/numpy.amax.html)\n",
        "\n",
        "* [argmax](https://numpy.org/doc/stable/reference/generated/numpy.argmax.html)\n",
        "\n",
        "* [abs](https://numpy.org/doc/stable/reference/generated/numpy.absolute.html)\n"
      ],
      "metadata": {
        "id": "asBxm0e4LLuX"
      },
      "id": "asBxm0e4LLuX"
    },
    {
      "cell_type": "markdown",
      "id": "c5196679",
      "metadata": {
        "id": "c5196679"
      },
      "source": [
        "***\n",
        "### Key variables in RL and OpenAI Gym\n",
        "\n",
        "For this assignment we will explore two variants of the Gridworld. The first one `'GridWorld-3x3-Wall-v0'` is a grid of 3x3 and contains a wall in some cells that do not allow to move on those directions. The second one is known as `FrozenLake8x8-v0` which contains a few cells with holes that once the agent step on it, it drowns and the episode finishes. We will give more details once we start working with them. In the meantime a few reminders on OpenAI Gym variables.\n",
        "\n",
        "* __Agent__: The learner and decision maker. This is a class you should create.\n",
        "* __Environment__:  What the agent interacts with. This is the variable `env` in `env = gym.make(version of gridworld)`. In GridWorld, a particularly important variable is `env.P`, which contains the Markov process model of the system. This variable encodes the state transition probabilities, rewards, and other information. \n",
        "* __State__: A state $s \\in \\mathcal{S}$ is a succinct representation of the environments current state. The current sate can be obtained by `env.s`\n",
        "* __Action__: The agent can take actions $a \\in \\mathcal{A}$ in order to change the state of the environment. It is an element of `env.action_space`.\n",
        "* __Policy__: Rules for how the agent choses the next action given the current state, $a = \\pi(s)$.\n",
        "* __Reward__: An immediate reward $R(s,a)$ that the agent gets for taking action $a$ in state $s$. A reward depends on a state and action, so it can only be obtain through the `step` function, which in turn updates the environments state.\n",
        "\n"
      ]
    },
    {
      "cell_type": "markdown",
      "id": "1d649e45",
      "metadata": {
        "id": "1d649e45"
      },
      "source": [
        "# Dynamic Programming\n",
        "\n"
      ]
    },
    {
      "cell_type": "markdown",
      "source": [
        "## GridWorld 3x3 with a Wall.\n",
        "\n",
        "* `S`: start point\n",
        "* `G`: goal\n",
        "* `F`: frozen floor (you can walk over it)\n",
        "* `W`: wall (you cannot move in that direction)\n",
        "\n",
        "In the general FrozenLake environment, there are also cells with the name  `H`: hole (if agent steps on it, it sinks)"
      ],
      "metadata": {
        "id": "a-4p2Ir5Hj1O"
      },
      "id": "a-4p2Ir5Hj1O"
    },
    {
      "cell_type": "code",
      "execution_count": null,
      "id": "64ec1bc7",
      "metadata": {
        "colab": {
          "base_uri": "https://localhost:8080/"
        },
        "id": "64ec1bc7",
        "outputId": "870ad08b-0893-4c0d-8e71-1ac6a68d690f"
      },
      "outputs": [
        {
          "output_type": "stream",
          "name": "stdout",
          "text": [
            "Initial state: 6\n",
            "State space: Discrete(9)\n",
            "Action space: Discrete(4)\n",
            "\n",
            "FFF\n",
            "FWF\n",
            "\u001b[41mS\u001b[0mWG\n"
          ]
        }
      ],
      "source": [
        "env_GW = gym.make('GridWorld-3x3-Wall-v0')\n",
        "state = env_GW.reset()  #will set the agent into a random initial state\n",
        "print('Initial state:', state) #reminder: python starts counting from 0\n",
        "print(\"State space:\", env_GW.observation_space) # observations and states will be the same for us in this module\n",
        "print(\"Action space:\", env_GW.action_space) # all the available actions and their type: discrete or continuous\n",
        "env_GW.render()"
      ]
    },
    {
      "cell_type": "markdown",
      "id": "c303e3b0",
      "metadata": {
        "id": "c303e3b0"
      },
      "source": [
        "__State space__: We see that the state space contains 9 discrete states. In this case each state corresponds to a position of the agent (3x3=9 possibilities).  \n",
        "But some of those states are not accesible, since there is a wall on them (states *4* and *7*.\n",
        "State *6* is the starting point **S**, and state *8* is the goal **G**. \n",
        "\n",
        "__Action space__: The 4 discrete actions corresponds to: 0 - Left, 1 - Down, 2 - Right, 3 - Up. "
      ]
    },
    {
      "cell_type": "code",
      "execution_count": null,
      "id": "9674fb11",
      "metadata": {
        "id": "9674fb11",
        "colab": {
          "base_uri": "https://localhost:8080/"
        },
        "outputId": "252dd27e-342d-4b71-bcb7-22bfac8d0f6e"
      },
      "outputs": [
        {
          "output_type": "stream",
          "name": "stdout",
          "text": [
            "  (Up)\n",
            "\u001b[41mF\u001b[0mFF\n",
            "FWF\n",
            "SWG\n",
            "New state: 0\n",
            "Reward: -1.0\n",
            "Done: False\n"
          ]
        }
      ],
      "source": [
        "new_state, reward, done, info = env_GW.step(3) # Take action 3 (Up)\n",
        "env_GW.render() #displays the results\n",
        "print(\"New state:\", new_state)\n",
        "print(\"Reward:\", reward)\n",
        "print(\"Done:\", done)"
      ]
    },
    {
      "cell_type": "markdown",
      "id": "6259e7d6",
      "metadata": {
        "id": "6259e7d6"
      },
      "source": [
        "We define now a uniform random agent (that does not learn, only acts)"
      ]
    },
    {
      "cell_type": "code",
      "execution_count": null,
      "id": "df2bddf9",
      "metadata": {
        "id": "df2bddf9"
      },
      "outputs": [],
      "source": [
        "class RandomAgent(object):\n",
        "    def __init__(self, action_space, nA, nS):\n",
        "        self.action_space = action_space\n",
        "        self.nA = nA\n",
        "        self.nS = nS\n",
        "        self.probs = np.ones((self.nS,self.nA))/self.nA \n",
        "        #uniform distribution per state. Note how this table is organized: nS rows, nA columns\n",
        "\n",
        "    def act(self, state):\n",
        "        # IMPORTANT: here is where we define how the probability table 'probs' is interpreted\n",
        "        action = np.random.choice(self.nA, p=self.probs[state]) \n",
        "        return action # a uniform random policy\n"
      ]
    },
    {
      "cell_type": "code",
      "execution_count": null,
      "id": "9569b696",
      "metadata": {
        "id": "9569b696"
      },
      "outputs": [],
      "source": [
        "agent_uniform = RandomAgent(env_GW.action_space,env_GW.nA, env_GW.nS) #an instantiation of an agent of the class RandomAgent\n"
      ]
    },
    {
      "cell_type": "code",
      "execution_count": null,
      "id": "570e48cc",
      "metadata": {
        "id": "570e48cc",
        "colab": {
          "base_uri": "https://localhost:8080/"
        },
        "outputId": "5722011b-f355-457a-905c-7cea80ac47d4"
      },
      "outputs": [
        {
          "output_type": "stream",
          "name": "stdout",
          "text": [
            "  (Down)\n",
            "FFF\n",
            "FWF\n",
            "SW\u001b[41mG\u001b[0m\n",
            "Time step: 76\n",
            "State: 8\n",
            "Action: 1\n",
            "Total reward: -76.0\n"
          ]
        }
      ],
      "source": [
        "run_agent(env_GW, agent_uniform, tsleep = 0.05)"
      ]
    },
    {
      "cell_type": "markdown",
      "id": "089b9587",
      "metadata": {
        "id": "089b9587"
      },
      "source": [
        "*Remark*: notice that in this grid we can easily spot the optimal policy, but a random agent struggles to find it. "
      ]
    },
    {
      "cell_type": "markdown",
      "id": "4884fadd",
      "metadata": {
        "id": "4884fadd"
      },
      "source": [
        "# Task 1.1: Bellman Equation"
      ]
    },
    {
      "cell_type": "markdown",
      "id": "c74b9caf",
      "metadata": {
        "id": "c74b9caf"
      },
      "source": [
        "The following functions will help you to write the Bellman Equation for $v_{\\pi}$ in a iterative way. \n",
        "\n",
        "**Your task here is to write down the respective pseudo code for each function, or alternatively, the equations or backup diagrams associated. You can either write it directly here using LaTeX, or include an image in your submission.**"
      ]
    },
    {
      "cell_type": "code",
      "execution_count": null,
      "id": "f4730adb",
      "metadata": {
        "id": "f4730adb"
      },
      "outputs": [],
      "source": [
        "# Set up the discount factor\n",
        "GAMMA = 1.0 # defined as a global variable, so you can easily change it if needed.\n",
        "\n",
        "#For each action, computes the effect of the action, and update discounted reward for that action\n",
        "def Q_from_V(env, s, value_function):\n",
        "    action_values = np.zeros(env.nA)\n",
        "    for a in range(env.nA):\n",
        "        for p, next_s, reward, _ in env.P[s][a]:\n",
        "            action_values[a] += p * (reward + GAMMA * value_function[next_s])   # a += 1 is the same than a = a+1\n",
        "    return action_values\n",
        "\n",
        "# Compute the expected state-value according to the action policy, \n",
        "# where the weights are the associated probabilities agent.probs\n",
        "def weighted_action_value(env, agent, action_values, s):\n",
        "    weighted_value = 0\n",
        "    action_set = range(agent.nA)\n",
        "    for action in action_set:\n",
        "        weighted_value += agent.probs[s , action] * action_values[action]    \n",
        "    return weighted_value\n",
        "    \n",
        "def Bellman_equation_RHS(env, agent, old_value_function):    #the righthand side of the Bellman Equation for V\n",
        "    value_function = np.zeros(env.nS)\n",
        "    for s in range(env.nS):\n",
        "        action_values = Q_from_V(env, s, old_value_function)\n",
        "        value_function[s] = weighted_action_value(env, agent, action_values, s)\n",
        "    return value_function\n",
        "\n"
      ]
    },
    {
      "cell_type": "markdown",
      "source": [
        "An important remark is that `Bellman_equation_RHS` returns a vector with number of coordinates equals to the number of states."
      ],
      "metadata": {
        "id": "1ZI0XxI4MqzR"
      },
      "id": "1ZI0XxI4MqzR"
    },
    {
      "cell_type": "markdown",
      "id": "324a080b",
      "metadata": {
        "id": "324a080b"
      },
      "source": [
        "# Task 1.2: Policy Evaluation"
      ]
    },
    {
      "cell_type": "markdown",
      "id": "c7b6fc78",
      "metadata": {
        "id": "c7b6fc78"
      },
      "source": [
        "The following function will compute the Iterative Policy Evaluation algorithm (Algorithm 1 in Slide 7 from Lecture-03). **Your task is to complete the following function where it says `# YOUR CODE HERE`**"
      ]
    },
    {
      "cell_type": "code",
      "execution_count": null,
      "id": "8e1bd46b",
      "metadata": {
        "id": "8e1bd46b"
      },
      "outputs": [],
      "source": [
        "def policy_evaluation(env, agent, old_value, attempts=20, tol=1e-6):  \n",
        "    # old_value takes the role of the initial values for V(s) in the algorithm 1 from lecture 3.\n",
        "    current_policy = agent.probs #Input\n",
        "    theta = tol # parameters\n",
        "    V_s = old_value #initialisation\n",
        "    Delta = theta +1\n",
        "    for i in range(attempts):\n",
        "        # YOUR CODE HERE (you need to define how new_value is computed). \n",
        "        # You can/should use the functions from Task 1.1\n",
        "    return new_value "
      ]
    },
    {
      "cell_type": "markdown",
      "source": [
        "**NOTE:**  `attempts` is written in case we don't converge fast enough. Probably not an issue for this problem, but for others it may be relevant. "
      ],
      "metadata": {
        "id": "exxAQ_Q1OI4a"
      },
      "id": "exxAQ_Q1OI4a"
    },
    {
      "cell_type": "markdown",
      "id": "10518a48",
      "metadata": {
        "id": "10518a48"
      },
      "source": [
        "# Task 1.3: Policy Improvement"
      ]
    },
    {
      "cell_type": "markdown",
      "id": "3f434d69",
      "metadata": {
        "id": "3f434d69"
      },
      "source": [
        "The following function will compute a *Policy Improvement* over the current policy $\\pi$.\n",
        "\n",
        "**Your task is to write that function.** HINT: you can use the function `Q_from_V` from **Task 1.1** to create the new policy."
      ]
    },
    {
      "cell_type": "code",
      "execution_count": null,
      "id": "27136553",
      "metadata": {
        "id": "27136553"
      },
      "outputs": [],
      "source": [
        "def policy_improvement(env, agent, value_function):\n",
        "    current_policy = agent.probs #input\n",
        "    new_policy = current_policy # initialisation\n",
        "    for s in range(env.nS):\n",
        "      ##### YOUR CODE HERE: For each state, s, check if current_policy, provides the optimal action, a.\n",
        "      # if not, then modify your new_policy greedily, assigning new_policy[s,a]=1, and the other coordinates = 0\n",
        "    \n",
        "    \n",
        "    \n",
        "    agent.probs = new_policy\n",
        "# this function does not return anything, it just modifies the probabilities\n",
        "# of the agent according to the improved policy. \n",
        "# You can also create an alternative version where the new policy is returned."
      ]
    },
    {
      "cell_type": "markdown",
      "id": "d60676ce",
      "metadata": {
        "id": "d60676ce"
      },
      "source": [
        "# Task 1.4: Policy Iteration Algorithm"
      ]
    },
    {
      "cell_type": "markdown",
      "id": "6b8d660c",
      "metadata": {
        "id": "6b8d660c"
      },
      "source": [
        "The following function should combined both functions from  **Task 1.2** and **Task 1.3** to create a Policy Iteration Algorithm.\n",
        "\n",
        "**Your task is to write that function**. It should return both the Optimal Policy and the Optimal State Value Function. \n",
        "\n",
        "You can do this in more than one cell. For example use the following function to compute the optimal state value $v$, use that to obtain the optimal action value  $q$, and with that define the optimal policy. But you also can do it in one step."
      ]
    },
    {
      "cell_type": "code",
      "execution_count": null,
      "id": "f178922d",
      "metadata": {
        "id": "f178922d"
      },
      "outputs": [],
      "source": [
        "def policy_iteration(env, agent, value_function, MaxIter=1000, tol=1e-6): \n",
        "    #run it until no changes (tol) or until we run out of time (MaxIter)\n",
        "    optimal_value_function = value_function   #initialisation\n",
        "    optimal_policy = np.zeros([env.nS, env.nA]) / env.nA  #  initialisation\n",
        "    # YOUR CODE HERE\n",
        "   \n",
        "    return optimal_policy, optimal_value_function\n",
        "    "
      ]
    },
    {
      "cell_type": "markdown",
      "id": "c900f02f",
      "metadata": {
        "id": "c900f02f"
      },
      "source": [
        "# Task 1.5: Value Iteration Algorithm\n",
        "Similar to the previous point the following function is the `Value Iteration Algorithm` (see Algorithm 3, slide 19 in Lecture-3).\n",
        "\n",
        "**Your task is to create that function**. The procedure should be similar to **Task 1.4** but you merged a couple of steps (sweeps) into one.  You should provide the Optimal State Function and the respective Optimal Policy.\n",
        "\n"
      ]
    },
    {
      "cell_type": "code",
      "execution_count": null,
      "id": "d5fb51b0",
      "metadata": {
        "id": "d5fb51b0"
      },
      "outputs": [],
      "source": [
        "def value_iteration(env, agent, value_function, MaxIter=1000, tol=1e-6):\n",
        "    old_value = value_function  #  initialisation\n",
        "    optimal_policy = np.zeros([env.nS, env.nA]) / env.nA  #  initialisation\n",
        "    theta = tol\n",
        "    delta = theta + 1\n",
        "    \n",
        "    for k in range(MaxIter):\n",
        "      for s in range(env.nS):\n",
        "        ## YOUR CODE HERE\n",
        "            \n",
        "    return optimal_policy, optimal_value_function"
      ]
    },
    {
      "cell_type": "markdown",
      "id": "7960c261",
      "metadata": {
        "id": "7960c261"
      },
      "source": [
        "# Task 1.6 Testing Gridworld\n",
        "\n",
        "Now that you have created the functions is time to test them on the environment. \n",
        "\n",
        "**Your task is to try different values of GAMMA and compare both Value Iteration and Policy Iteration on it**\n",
        "\n",
        "Write as many comments as you consider necessary, include some plots (for example use the function `plot_values` to display the state and action value functions)"
      ]
    },
    {
      "cell_type": "code",
      "execution_count": null,
      "id": "84e3f467",
      "metadata": {
        "id": "84e3f467"
      },
      "outputs": [],
      "source": [
        "env_GW = gym.make('GridWorld-3x3-Wall-v0')\n",
        "state = env_GW.reset()  #will set the agent into a random initial state\n",
        "print('Initial state:', state) #reminder: python starts counting from 0\n",
        "print(\"State space:\", env_GW.observation_space) # observations and states will be the same for us in this module\n",
        "print(\"Action space:\", env_GW.action_space) # all the available actions and their type: discrete or continuous\n",
        "env_GW.render()"
      ]
    },
    {
      "cell_type": "code",
      "execution_count": null,
      "id": "32dfa2bf",
      "metadata": {
        "id": "32dfa2bf"
      },
      "outputs": [],
      "source": [
        "agent1 = RandomAgent(env_GW.action_space, env_GW.nA, env_GW.nS)\n",
        "run_agent(env_GW, agent1, tsleep = 0.05)"
      ]
    },
    {
      "cell_type": "markdown",
      "source": [
        "## Task 1.6.1 \n",
        "\n",
        "Improve agent1 policy using POLICY iteration algorithm (algorithm from Task 1.4) and run the improved agent again (you can do many runs to observe the improvement step by step). \n",
        "\n",
        "Return the `optimal_value_function` and `optimal_policy` of this improved agent. "
      ],
      "metadata": {
        "id": "9D7UivyRYo3s"
      },
      "id": "9D7UivyRYo3s"
    },
    {
      "cell_type": "code",
      "source": [
        "### YOUR CODE HERE"
      ],
      "metadata": {
        "id": "1fFRbMiuiKCJ"
      },
      "id": "1fFRbMiuiKCJ",
      "execution_count": null,
      "outputs": []
    },
    {
      "cell_type": "markdown",
      "source": [
        "Run the following cell to display the optimal values of agent1 impoved policy."
      ],
      "metadata": {
        "id": "jQg7RQUwZeqR"
      },
      "id": "jQg7RQUwZeqR"
    },
    {
      "cell_type": "code",
      "source": [
        "plot_values(optimal_value_function, size=(3,3), name='State')\n",
        "plot_values(optimal_policy, size=(env_GW.nS, env_GW.nA), name = 'Policy')"
      ],
      "metadata": {
        "id": "vDWvkZnniKb7"
      },
      "id": "vDWvkZnniKb7",
      "execution_count": null,
      "outputs": []
    },
    {
      "cell_type": "markdown",
      "source": [
        "## Task 1.6.2\n",
        "\n",
        "Create a different agent, `agent2` initialised as an uniform random agent, and then improve its policy using VALUE iteration algoritm (from Task 1.5).\n",
        "\n",
        "Run the new agent and return its optimal value function and optimal policy."
      ],
      "metadata": {
        "id": "uQNTH3RQZt0a"
      },
      "id": "uQNTH3RQZt0a"
    },
    {
      "cell_type": "code",
      "source": [
        "agent2 = RandomAgent(env_GW.action_space, env_GW.nA, env_GW.nS)\n",
        "#YOUR CODE HERE: \n"
      ],
      "metadata": {
        "id": "oioh_InLjLv1"
      },
      "id": "oioh_InLjLv1",
      "execution_count": null,
      "outputs": []
    },
    {
      "cell_type": "markdown",
      "id": "b10e266d",
      "metadata": {
        "id": "b10e266d"
      },
      "source": [
        "**Question** Can you measure which method find the optimal policy faster? (if any)"
      ]
    },
    {
      "cell_type": "markdown",
      "id": "83db1321",
      "metadata": {
        "id": "83db1321"
      },
      "source": [
        "###  Frozen Lake environment"
      ]
    },
    {
      "cell_type": "code",
      "execution_count": null,
      "id": "88c49672",
      "metadata": {
        "id": "88c49672",
        "colab": {
          "base_uri": "https://localhost:8080/"
        },
        "outputId": "33dc2b00-3f82-4e8f-8581-25241c537057"
      },
      "outputs": [
        {
          "output_type": "stream",
          "name": "stdout",
          "text": [
            "Initial state: 0\n",
            "State space: Discrete(64)\n",
            "Action space: Discrete(4)\n",
            "\n",
            "\u001b[41mS\u001b[0mFFFFFFF\n",
            "FFFFFFFF\n",
            "FFFHFFFF\n",
            "FFFFFHFF\n",
            "FFFHFFFF\n",
            "FHHFFFHF\n",
            "FHFFHFHF\n",
            "FFFHFFFG\n"
          ]
        }
      ],
      "source": [
        "env_FL = gym.make('FrozenLake8x8-v1',is_slippery=False)\n",
        "state = env_FL.reset()  #will set the agent into a random initial state\n",
        "print('Initial state:', state) #reminder: python starts counting from 0\n",
        "print(\"State space:\", env_FL.observation_space) # observations and states will be the same for us in this module\n",
        "print(\"Action space:\", env_FL.action_space) # all the available actions and their type: discrete or continuous\n",
        "env_FL.render()"
      ]
    },
    {
      "cell_type": "markdown",
      "id": "d46e0a77",
      "metadata": {
        "id": "d46e0a77"
      },
      "source": [
        "`FrozenLake-v1` is an environment that simulates the following situation: imagine your agent wants to grab something on the other side of the Frozen Lake. Most of the lake is frozen, but there are a couple of cells with thin ice (holes) that will break if it steps on them. The objective is to arrive to the goal as quick as possible without falling into any holes.\n",
        "There are more than one terminal state: either reaches the goal or falls into the hole.  Every transition has a `reward=0` except when the agent reaches the goal, which has  `reward=1`.\n",
        "\n",
        "By default FrozenLake comes with the attribute `is_slippery = True` which means that even if the agent decides to go (for example) `right`, it might end up `up, left, down` to its current position (with certain probability). If you want to test the simpler case of deterministic transition probabilities, set up `is_slippery = False` (deterministic case). Your final implementation will be tested in the stochastic case.\n",
        "\n",
        "*Note*: there won't be differences on the implementation between stochastic and deterministic cases. The only difference will be the final values for policies and value functions.\n",
        "\n",
        "1. **S**: Starting Point\n",
        "2. **G**: Goal\n",
        "3. **F**: Frozen (safe cell that the agent can step on it)\n",
        "4. **H**: Hole (thin ice that will break if the agent steps on it will die) \n",
        "\n",
        "As usual, actions are given by `left = 0, down = 1, right =2, up = 3`.\n",
        "\n",
        "The function `env_FL.P[s][a]` will provide the set of [probability, new_state, reward,done]. I say **set**, because in the *slippery* case, it provides all the different options. In the non-slippery case it will give a single vector."
      ]
    },
    {
      "cell_type": "code",
      "execution_count": null,
      "id": "c9ce5370",
      "metadata": {
        "id": "c9ce5370",
        "colab": {
          "base_uri": "https://localhost:8080/"
        },
        "outputId": "5b8f53ef-1f88-4e14-b933-deacd485ecde"
      },
      "outputs": [
        {
          "output_type": "stream",
          "name": "stdout",
          "text": [
            "[(1.0, 9, 0.0, False)]\n"
          ]
        }
      ],
      "source": [
        "current_state = 10  \n",
        "action = 0  # Left \n",
        "#[(probability, new_state, reward, done)] = env_FL.P[current_state][action]\n",
        "print(env_FL.P[current_state][action])\n",
        "\n"
      ]
    },
    {
      "cell_type": "markdown",
      "id": "40a3255a",
      "metadata": {
        "id": "40a3255a"
      },
      "source": [
        "Let us create a random agent and see how it performs."
      ]
    },
    {
      "cell_type": "code",
      "execution_count": null,
      "id": "c9f51d07",
      "metadata": {
        "id": "c9f51d07",
        "colab": {
          "base_uri": "https://localhost:8080/"
        },
        "outputId": "ca12b718-45f6-4680-8de2-6c8c7cc3d5c8"
      },
      "outputs": [
        {
          "output_type": "stream",
          "name": "stdout",
          "text": [
            "  (Down)\n",
            "SFFFFFFF\n",
            "FFFFFFFF\n",
            "FFF\u001b[41mH\u001b[0mFFFF\n",
            "FFFFFHFF\n",
            "FFFHFFFF\n",
            "FHHFFFHF\n",
            "FHFFHFHF\n",
            "FFFHFFFG\n",
            "Time step: 51\n",
            "State: 19\n",
            "Action: 1\n",
            "Total reward: 0.0\n"
          ]
        }
      ],
      "source": [
        "agent3 = RandomAgent(env_FL.action_space, env_FL.nA, env_FL.nS)\n",
        "run_agent(env_FL, agent3, tsleep = 0.05) #if the agent dies too quickly, increase the value of tsleep to observe the transitions"
      ]
    },
    {
      "cell_type": "markdown",
      "id": "07e1f4c4",
      "metadata": {
        "id": "07e1f4c4"
      },
      "source": [
        "# Task 1.7 Testing Frozen Lake"
      ]
    },
    {
      "cell_type": "markdown",
      "id": "4bc23c87",
      "metadata": {
        "id": "4bc23c87"
      },
      "source": [
        "Similar to the case of GridWorld, **your task improve the policy of Agent3 and Agent4 using  Policy Iteration and Value Iteration, respectively**.\n",
        "Play around with the parameters (GAMMA, MaxIter) to see if they have any effect on avoiding the death of your agent."
      ]
    },
    {
      "cell_type": "code",
      "execution_count": null,
      "id": "1e7b0837",
      "metadata": {
        "id": "1e7b0837"
      },
      "outputs": [],
      "source": [
        "agent3 = RandomAgent(env_FL.action_space, env_FL.nA, env_FL.nS)\n",
        "\n",
        "## YOUR CODE HERE"
      ]
    },
    {
      "cell_type": "markdown",
      "source": [
        "Retrieve Agent3's optimal policy and value function and plot them using the below cell."
      ],
      "metadata": {
        "id": "IcY4_yxua0o1"
      },
      "id": "IcY4_yxua0o1"
    },
    {
      "cell_type": "code",
      "source": [
        "plot_values(optimal_value_function,size=(8,8), name='State')\n",
        "plot_values(agent3.probs, size=(env_FL.nS, env_FL.nA), name = 'Policy')"
      ],
      "metadata": {
        "id": "tMbSEurEoP36"
      },
      "id": "tMbSEurEoP36",
      "execution_count": null,
      "outputs": []
    },
    {
      "cell_type": "code",
      "source": [
        "agent4 = RandomAgent(env_FL.action_space, env_FL.nA, env_FL.nS)\n",
        "\n",
        "## YOUR CODE HERE"
      ],
      "metadata": {
        "id": "GusXrCgRoh6g"
      },
      "id": "GusXrCgRoh6g",
      "execution_count": null,
      "outputs": []
    },
    {
      "cell_type": "markdown",
      "source": [
        "Retrieve Agent4's optimal policy and value function and plot them using the below cell."
      ],
      "metadata": {
        "id": "75VVGQUXbGmK"
      },
      "id": "75VVGQUXbGmK"
    },
    {
      "cell_type": "code",
      "source": [
        "plot_values(optimal_value_function,size=(8,8), name='State')\n",
        "plot_values(agent4.probs, size=(env_FL.nS, env_FL.nA), name = 'Policy')"
      ],
      "metadata": {
        "id": "DWj1T1mqqLgU"
      },
      "id": "DWj1T1mqqLgU",
      "execution_count": null,
      "outputs": []
    },
    {
      "cell_type": "code",
      "source": [],
      "metadata": {
        "id": "jAmrjWrorH5p"
      },
      "id": "jAmrjWrorH5p",
      "execution_count": null,
      "outputs": []
    }
  ],
  "metadata": {
    "kernelspec": {
      "display_name": "Python 3 (ipykernel)",
      "language": "python",
      "name": "python3"
    },
    "language_info": {
      "codemirror_mode": {
        "name": "ipython",
        "version": 3
      },
      "file_extension": ".py",
      "mimetype": "text/x-python",
      "name": "python",
      "nbconvert_exporter": "python",
      "pygments_lexer": "ipython3",
      "version": "3.9.7"
    },
    "colab": {
      "provenance": []
    }
  },
  "nbformat": 4,
  "nbformat_minor": 5
}