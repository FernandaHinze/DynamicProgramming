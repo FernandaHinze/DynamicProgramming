{
  "cells": [
    {
      "cell_type": "markdown",
      "id": "16377ed3",
      "metadata": {
        "id": "16377ed3"
      },
      "source": [
        "# Lab session  1.2: Markov Decision Processes. Chapter 3 of textbook"
      ]
    },
    {
      "cell_type": "code",
      "execution_count": null,
      "id": "70c88b2d",
      "metadata": {
        "id": "70c88b2d",
        "colab": {
          "base_uri": "https://localhost:8080/"
        },
        "outputId": "7f586b44-19b4-40da-bc78-414d0c264e34"
      },
      "outputs": [
        {
          "output_type": "stream",
          "name": "stdout",
          "text": [
            "Looking in indexes: https://pypi.org/simple, https://us-python.pkg.dev/colab-wheels/public/simple/\n",
            "Collecting gym==0.21\n",
            "  Downloading gym-0.21.0.tar.gz (1.5 MB)\n",
            "\u001b[2K     \u001b[90m━━━━━━━━━━━━━━━━━━━━━━━━━━━━━━━━━━━━━━━━\u001b[0m \u001b[32m1.5/1.5 MB\u001b[0m \u001b[31m16.5 MB/s\u001b[0m eta \u001b[36m0:00:00\u001b[0m\n",
            "\u001b[?25h  Preparing metadata (setup.py) ... \u001b[?25l\u001b[?25hdone\n",
            "Requirement already satisfied: numpy>=1.18.0 in /usr/local/lib/python3.8/dist-packages (from gym==0.21) (1.21.6)\n",
            "Requirement already satisfied: cloudpickle>=1.2.0 in /usr/local/lib/python3.8/dist-packages (from gym==0.21) (2.2.0)\n",
            "Building wheels for collected packages: gym\n",
            "  Building wheel for gym (setup.py) ... \u001b[?25l\u001b[?25hdone\n",
            "  Created wheel for gym: filename=gym-0.21.0-py3-none-any.whl size=1616825 sha256=0fbb430aaa24f5d9ba2253d39c1a6900095d9fa4d4914b56b69dd5ebd0fdd069\n",
            "  Stored in directory: /root/.cache/pip/wheels/27/6d/b3/a3a6e10704795c9b9000f1ab2dc480dfe7bed42f5972806e73\n",
            "Successfully built gym\n",
            "Installing collected packages: gym\n",
            "  Attempting uninstall: gym\n",
            "    Found existing installation: gym 0.25.2\n",
            "    Uninstalling gym-0.25.2:\n",
            "      Successfully uninstalled gym-0.25.2\n",
            "Successfully installed gym-0.21.0\n",
            "Looking in indexes: https://pypi.org/simple, https://us-python.pkg.dev/colab-wheels/public/simple/\n",
            "Collecting pygame\n",
            "  Downloading pygame-2.1.2-cp38-cp38-manylinux_2_17_x86_64.manylinux2014_x86_64.whl (21.8 MB)\n",
            "\u001b[2K     \u001b[90m━━━━━━━━━━━━━━━━━━━━━━━━━━━━━━━━━━━━━━━━\u001b[0m \u001b[32m21.8/21.8 MB\u001b[0m \u001b[31m16.3 MB/s\u001b[0m eta \u001b[36m0:00:00\u001b[0m\n",
            "\u001b[?25hInstalling collected packages: pygame\n",
            "Successfully installed pygame-2.1.2\n",
            "Looking in indexes: https://pypi.org/simple, https://us-python.pkg.dev/colab-wheels/public/simple/\n",
            "Collecting git+https://github.com/andremht/gym-gridworld.git\n",
            "  Cloning https://github.com/andremht/gym-gridworld.git to /tmp/pip-req-build-7zmhr7wj\n",
            "  Running command git clone --filter=blob:none --quiet https://github.com/andremht/gym-gridworld.git /tmp/pip-req-build-7zmhr7wj\n",
            "  Resolved https://github.com/andremht/gym-gridworld.git to commit f46fbc77200bf0f80f110854bc2c6be3b6d3f3b8\n",
            "  Preparing metadata (setup.py) ... \u001b[?25l\u001b[?25hdone\n",
            "Requirement already satisfied: gym>=0.2.3 in /usr/local/lib/python3.8/dist-packages (from gym-gridworld==0.0.1) (0.21.0)\n",
            "Requirement already satisfied: cloudpickle>=1.2.0 in /usr/local/lib/python3.8/dist-packages (from gym>=0.2.3->gym-gridworld==0.0.1) (2.2.0)\n",
            "Requirement already satisfied: numpy>=1.18.0 in /usr/local/lib/python3.8/dist-packages (from gym>=0.2.3->gym-gridworld==0.0.1) (1.21.6)\n",
            "Building wheels for collected packages: gym-gridworld\n",
            "  Building wheel for gym-gridworld (setup.py) ... \u001b[?25l\u001b[?25hdone\n",
            "  Created wheel for gym-gridworld: filename=gym_gridworld-0.0.1-py3-none-any.whl size=4733 sha256=40d6607fff54dfd3de45a40b90992628690989d5fa03d59ccf0345cd2b1a3ef4\n",
            "  Stored in directory: /tmp/pip-ephem-wheel-cache-fxjvagig/wheels/07/ab/c4/f51e3ae6f94cf1ae456295c9f65379b462c1417c2d67314773\n",
            "Successfully built gym-gridworld\n",
            "Installing collected packages: gym-gridworld\n",
            "Successfully installed gym-gridworld-0.0.1\n"
          ]
        }
      ],
      "source": [
        "# Packages needed for this session\n",
        "!pip install gym==0.21     # We need this version or lower of gym, otherwise some errors might occur \n",
        "!pip install pygame        # to use some of the features of gym\n",
        "!pip install git+https://github.com/andremht/gym-gridworld.git   # implementation of gridworld from Chapter 3"
      ]
    },
    {
      "cell_type": "code",
      "execution_count": null,
      "id": "7c7f6995",
      "metadata": {
        "id": "7c7f6995"
      },
      "outputs": [],
      "source": [
        "import gym\n",
        "import numpy as np # to work with mathematical formulae\n",
        "import time # to reduce the speed of simulations\n",
        "import random # to randomly generate data\n",
        "import matplotlib.pyplot as plt # to plot\n",
        "from IPython.display import clear_output # Used to clear the ouput of a Jupyter cell.\n",
        "import gym_gridworld  # to use the minimal gridworld from Chapter 3."
      ]
    },
    {
      "cell_type": "code",
      "execution_count": null,
      "id": "c9fd6e4b",
      "metadata": {
        "id": "c9fd6e4b"
      },
      "outputs": [],
      "source": [
        "# function to run the agent to see how it performs\n",
        "def run_agent(env, agent, tsleep = 0.05):\n",
        "    state = env.reset()\n",
        "    time_step = 0\n",
        "    total_reward = 0\n",
        "    reward = 0;\n",
        "    done = False\n",
        "    while not done:\n",
        "        action = agent.act(state);   #  we will need to define function act(state)\n",
        "        state, reward, done, info = env.step(action)\n",
        "        total_reward += reward\n",
        "        time_step += 1\n",
        "        clear_output(wait=True)\n",
        "        env.render()\n",
        "        print(\"Time step:\", time_step)\n",
        "        print(\"State:\", state)\n",
        "        print(\"Action:\", action)\n",
        "        print(\"Total reward:\", total_reward)\n",
        "        time.sleep(tsleep)"
      ]
    },
    {
      "cell_type": "markdown",
      "id": "9c9c75ec",
      "metadata": {
        "id": "9c9c75ec"
      },
      "source": [
        "***\n",
        "## Key variables in RL and OpenAI Gym\n",
        "\n",
        "Recall some of the important concepts in RL:\n",
        "* __Agent__: The learner and decision maker. This is a class you should create.\n",
        "* __Environment__:  What the agent interacts with. This is the variable `env` in `env = gym.make('GridWorld-v0')`. In GridWorld, a particularly important variable is `env.P`, which contains the Markov process model of the system. This variable encodes the state transition probabilities, rewards, and other information. \n",
        "* __State__: A state $s \\in \\mathcal{S}$ is a succinct representation of the environments current state. The current sate can be obtained by `env.s`\n",
        "* __Action__: The agent can take actions $a \\in \\mathcal{A}$ in order to change the state of the environment. It is an element of `env.action_space`.\n",
        "* __Policy__: Rules for how the agent choses the next action given the current state, $a = \\pi(s)$. __You will create this policy__.\n",
        "* __Reward__: An immediate reward $R(s,a)$ that the agent gets for taking action $a$ in state $s$. A reward depends on a state and action, so it can only be obtain through the `step` function, which in turn updates the environments state.\n",
        "\n",
        "In this notebook, we will use the GridWorld example. Get familiar with this environment in OpenAI Gym, as well as with the variables indicated above. You will need them!"
      ]
    },
    {
      "cell_type": "code",
      "execution_count": null,
      "id": "26f32522",
      "metadata": {
        "id": "26f32522",
        "colab": {
          "base_uri": "https://localhost:8080/"
        },
        "outputId": "44ee5cdf-14f8-40c7-89c4-adeb0d9a8349"
      },
      "outputs": [
        {
          "output_type": "stream",
          "name": "stdout",
          "text": [
            "Initial state: 12\n",
            "State space: Discrete(25)\n",
            "Action space: Discrete(4)\n"
          ]
        }
      ],
      "source": [
        "# Load environment\n",
        "env = gym.make('GridWorld-5x5-AB-v0') # the same as in Example 3.5 in textbook/ Slide 23 from Lecture 2\n",
        "state = env.reset()\n",
        "print('Initial state:', state) #reminder: python starts counting from 0\n",
        "print(\"State space:\", env.observation_space) # observations and states will be the same for us in this lab\n",
        "print(\"Action space:\", env.action_space)"
      ]
    },
    {
      "cell_type": "markdown",
      "id": "16103689",
      "metadata": {
        "id": "16103689"
      },
      "source": [
        "__State space__: We see that the state space contains 25 discrete states. In this case each state corresponds to a position of the agent (5x5=25 possibilities).\n",
        "\n",
        "__Action space__: The 4 discrete actions corresponds to: 0 - Left, 1 - Down, 2 - Right, 3 - Up. \n",
        "\n",
        "We will now see how the we can interact with the environment."
      ]
    },
    {
      "cell_type": "code",
      "execution_count": null,
      "id": "1525faa2",
      "metadata": {
        "id": "1525faa2",
        "colab": {
          "base_uri": "https://localhost:8080/"
        },
        "outputId": "c838d38a-2e01-4407-e41f-0eedce2f5b10"
      },
      "outputs": [
        {
          "output_type": "stream",
          "name": "stdout",
          "text": [
            "  (Left)\n",
            "FAFBF\n",
            "FFFFF\n",
            "FFFbF\n",
            "FFFFF\n",
            "F\u001b[41ma\u001b[0mFFF\n",
            "New state: 21\n",
            "Reward: 10.0\n",
            "Done: False\n"
          ]
        }
      ],
      "source": [
        "new_state, reward, done, info = env.step(0) # Take action 3 (Up)\n",
        "env.render()\n",
        "print(\"New state:\", new_state)\n",
        "print(\"Reward:\", reward)\n",
        "print(\"Done:\", done)"
      ]
    },
    {
      "cell_type": "markdown",
      "source": [
        "Let us consider an agent that uses a random policy: chooses at random among their actions with `env.action_space.sample()`."
      ],
      "metadata": {
        "id": "s777UDKer5UQ"
      },
      "id": "s777UDKer5UQ"
    },
    {
      "cell_type": "code",
      "execution_count": null,
      "id": "55e34e40",
      "metadata": {
        "id": "55e34e40",
        "colab": {
          "base_uri": "https://localhost:8080/"
        },
        "outputId": "79306590-ea7a-4482-8aa6-16060b3ca9c1"
      },
      "outputs": [
        {
          "output_type": "stream",
          "name": "stdout",
          "text": [
            "  (Left)\n",
            "FAFBF\n",
            "FFFFF\n",
            "FFFbF\n",
            "FFFFF\n",
            "FaF\u001b[41mF\u001b[0mF\n",
            "Time step: 200\n",
            "State: 23\n",
            "Action: 0\n",
            "Total reward: 26.0\n"
          ]
        }
      ],
      "source": [
        "# Run the simple random policy\n",
        "state = env.reset()\n",
        "time_step = 0\n",
        "total_reward = 0\n",
        "done = False\n",
        "while not done:\n",
        "    action = env.action_space.sample()\n",
        "    state, reward, done, info = env.step(action)\n",
        "    total_reward += reward\n",
        "    time_step += 1\n",
        "    clear_output(wait=True)\n",
        "    env.render()\n",
        "    print(\"Time step:\", time_step)\n",
        "    print(\"State:\", state)\n",
        "    print(\"Action:\", action)\n",
        "    print(\"Total reward:\", total_reward)\n",
        "    time.sleep(.03)"
      ]
    },
    {
      "cell_type": "markdown",
      "id": "e77f1b4d",
      "metadata": {
        "id": "e77f1b4d"
      },
      "source": [
        "Do you notice any limitation with this random policy?<br>\n",
        "One problem with this random policy is that the probabilities do not depend on the states... This in turn means that we can not use our knowledge of the system to its fullest.\n",
        "\n",
        "To have state-dependant probabilities, we need a more complex agent configuration. One way to think of this is that we need to have, per each state `s`, an `nA`-dimensional vector of probabilities.\n",
        "\n",
        "Let us look at a simple agent class that does that."
      ]
    },
    {
      "cell_type": "code",
      "execution_count": null,
      "id": "8e8c21a0",
      "metadata": {
        "id": "8e8c21a0"
      },
      "outputs": [],
      "source": [
        "# This random agent only acts, there is no 'learn' method\n",
        "class RandomAgent(object):\n",
        "    def __init__(self, action_space, nA, nS):\n",
        "        self.action_space = action_space\n",
        "        self.nA = nA\n",
        "        self.nS = nS\n",
        "        self.probs = np.ones((self.nS,self.nA))/self.nA #uniform distribution per state. Note how this table is organized: nS rows, nA columns\n",
        "\n",
        "    def act(self, state):\n",
        "        # IMPORTANT: here is where we define how the probability table 'probs' is interpreted\n",
        "        action = np.random.choice(self.nA, p=self.probs[state]) \n",
        "        return action # a uniform random policy\n",
        "\n",
        "    def learn(self, state):\n",
        "        pass  # in the next labs we will change this, typically modifying the self.probs"
      ]
    },
    {
      "cell_type": "code",
      "execution_count": null,
      "id": "022f2468",
      "metadata": {
        "id": "022f2468"
      },
      "outputs": [],
      "source": [
        "agent_uniform = RandomAgent(env.action_space, env.nA, env.nS) #an instantiation of an agent of the class RandomAgent\n"
      ]
    },
    {
      "cell_type": "markdown",
      "id": "c045438c",
      "metadata": {
        "id": "c045438c"
      },
      "source": [
        "What we see is that each row corresponds to a given state: `s=0` corresponds to `row 0` of the table. The action probabilities at a state `s` are given by `agent_uniform.probs[s]`.<br>\n",
        "Simlarly, each column corresponds to a particular action `a`. The probability that action `a` is taken at state `s` is then given by `agent_uniform.probs[s][a]`.<br>\n",
        "Mathematically, we then have that $\\mathbb{P}_{\\pi}(A = a\\,| S = s) =$ `agent_uniform.probs[s][a]`.\n",
        "\n",
        "Let us see how it performs (try it a coupld of times and see what typical total rewards are obtained)."
      ]
    },
    {
      "cell_type": "code",
      "execution_count": null,
      "id": "8227d216",
      "metadata": {
        "id": "8227d216",
        "colab": {
          "base_uri": "https://localhost:8080/"
        },
        "outputId": "661c3728-983b-4c57-ccec-e17283cda2fc"
      },
      "outputs": [
        {
          "output_type": "stream",
          "name": "stdout",
          "text": [
            "  (Up)\n",
            "FAFBF\n",
            "FFFFF\n",
            "FF\u001b[41mF\u001b[0mbF\n",
            "FFFFF\n",
            "FaFFF\n",
            "Time step: 200\n",
            "State: 12\n",
            "Action: 3\n",
            "Total reward: 8.0\n"
          ]
        }
      ],
      "source": [
        "run_agent(env, agent_uniform, tsleep = 0.05)"
      ]
    },
    {
      "cell_type": "code",
      "execution_count": null,
      "id": "7de0338c",
      "metadata": {
        "id": "7de0338c"
      },
      "outputs": [],
      "source": [
        "#another instantiation of an agent of the class RandomAgent\n",
        "agent_2 = RandomAgent(env.action_space, env.nA, env.nS) "
      ]
    },
    {
      "cell_type": "code",
      "execution_count": null,
      "id": "4a051d7e",
      "metadata": {
        "id": "4a051d7e"
      },
      "outputs": [],
      "source": [
        "# a first assignment of probabilities\n",
        "agent_2.probs[:,0] = 0.05\n",
        "agent_2.probs[:,1] = 0.05\n",
        "agent_2.probs[:,2] = 0.15\n",
        "agent_2.probs[:,3] = 0.75"
      ]
    },
    {
      "cell_type": "code",
      "execution_count": null,
      "id": "4ab58cc6",
      "metadata": {
        "id": "4ab58cc6",
        "colab": {
          "base_uri": "https://localhost:8080/"
        },
        "outputId": "0a4ff640-9040-4bd1-fbc0-5050f795153b"
      },
      "outputs": [
        {
          "output_type": "stream",
          "name": "stdout",
          "text": [
            "  (Up)\n",
            "FAFBF\n",
            "FFFFF\n",
            "FFF\u001b[41mb\u001b[0mF\n",
            "FFFFF\n",
            "FaFFF\n",
            "Time step: 200\n",
            "State: 13\n",
            "Action: 3\n",
            "Total reward: 161.0\n"
          ]
        }
      ],
      "source": [
        "# run the new agent to see how it performs (repeat a coupld of times if needed)\n",
        "run_agent(env, agent_2)"
      ]
    },
    {
      "cell_type": "markdown",
      "id": "4bfcc95c",
      "metadata": {
        "id": "4bfcc95c"
      },
      "source": [
        "Run the agent a few times and compare to the previous agent with uniform probabilities.\n",
        "Which one seems to perform better?\n",
        "Look at the action probabilities of the new agent. Do they vary between states?\n",
        "Create a new agent below, edit the action policies so that action probabilities vary with the state. Try to choose a probability table that leads to a more eficient agent, and finally test it out."
      ]
    },
    {
      "cell_type": "code",
      "source": [
        "#This function will an array and turn it into the grid format, and then plot the value function with a colourmap \n",
        "\n",
        "def plot_values(VF, size= (5,5), name = None):\n",
        "# reshape value function according to the size of the grid (rows and columns)\n",
        "    VF_grid = np.reshape(VF, size)\n",
        "\n",
        "# plot the state-value function\n",
        "    fig = plt.figure(figsize=(8, 8))\n",
        "    ax = fig.add_subplot(111)\n",
        "    im = ax.imshow(VF_grid, cmap='cool')\n",
        "    fig.colorbar(im, ax=ax)   #  colourbar to indicate which is higher and lower\n",
        "    for (j,i),label in np.ndenumerate(VF_grid):\n",
        "        ax.text(i, j, np.round(label, 5), ha='center', va='center', fontsize=14)\n",
        "    plt.tick_params(bottom=False, left=False, labelbottom=False, labelleft=False)\n",
        "    plt.title(name+'-Value Function')\n",
        "    if name == 'Policy':\n",
        "            plt.title(name)\n",
        "    plt.show()"
      ],
      "metadata": {
        "id": "SCu182_V7aXR"
      },
      "id": "SCu182_V7aXR",
      "execution_count": null,
      "outputs": []
    },
    {
      "cell_type": "markdown",
      "source": [
        "We can test this function so you can have an idea of what it does."
      ],
      "metadata": {
        "id": "3EJkqlq-7ihv"
      },
      "id": "3EJkqlq-7ihv"
    },
    {
      "cell_type": "code",
      "source": [
        "V= 2*np.round(np.random.random_sample((16,)),2)+3"
      ],
      "metadata": {
        "id": "VwgCsw9d7pU1"
      },
      "id": "VwgCsw9d7pU1",
      "execution_count": null,
      "outputs": []
    },
    {
      "cell_type": "code",
      "source": [
        "plot_values(V,size=(4,4), name='State')"
      ],
      "metadata": {
        "id": "mK-6SLwqMOgU",
        "colab": {
          "base_uri": "https://localhost:8080/",
          "height": 466
        },
        "outputId": "79143ca3-cf35-4f17-f303-20cb9323b08a"
      },
      "id": "mK-6SLwqMOgU",
      "execution_count": null,
      "outputs": [
        {
          "output_type": "display_data",
          "data": {
            "text/plain": [
              "<Figure size 576x576 with 2 Axes>"
            ],
            "image/png": "[encoded data removed]"
          },
          "metadata": {
            "needs_background": "light"
          }
        }
      ]
    },
    {
      "cell_type": "markdown",
      "id": "f0c653fd",
      "metadata": {
        "id": "f0c653fd"
      },
      "source": [
        "# Bellman's equations\n",
        "We will look into Bellman's equations, and recall that we do this while knowning the model of the system - this will change in Lecture 4 and onwards.\n",
        "\n",
        "We will use the environment variable `env`, but only to give us the model parameters (i.e., transition probabilities and rewards). If you want, you can verify yourself that the state is not being changed during the evaluation (monitor the variable `env.s`)."
      ]
    },
    {
      "cell_type": "code",
      "execution_count": null,
      "id": "1ef68401",
      "metadata": {
        "id": "1ef68401"
      },
      "outputs": [],
      "source": [
        "# Set up the discount factor\n",
        "GAMMA = 1 # defined as a global variable, so you can easily change it if needed.\n",
        "\n",
        "#For each action, computes the effect of the action, and update discounted reward for that action\n",
        "def Q_from_V(env, s, value_function):\n",
        "    action_values = np.zeros(env.nA)\n",
        "    for a in range(env.nA):\n",
        "        for p, next_s, reward, _ in env.P[s][a]:\n",
        "            action_values[a] += p * (reward + GAMMA * value_function[next_s])   # a += 1 is the same than a = a+1\n",
        "    return action_values\n",
        "\n",
        "# Compute the expected state-value according to the action policy, \n",
        "# where the weights are the associated probabilities agent.probs\n",
        "def weighted_action_value(env, agent, action_values, s):\n",
        "    weighted_value = 0\n",
        "    action_set = range(agent.nA)\n",
        "    for action in action_set:\n",
        "        weighted_value += agent.probs[s , action] * action_values[action]\n",
        "    return weighted_value\n",
        "\n",
        "def Bellman_equation_RHS(env, agent, old_value_function):    #the righthand side of the Bellman Equation for V\n",
        "    value_function = np.zeros(env.nS)\n",
        "    for s in range(env.nS):\n",
        "        action_values = Q_from_V(env, s, old_value_function)\n",
        "        value_function[s] = weighted_action_value(env, agent, action_values, s)\n",
        "    return value_function\n"
      ]
    },
    {
      "cell_type": "markdown",
      "id": "be547e9d",
      "metadata": {
        "id": "be547e9d"
      },
      "source": [
        "***\n",
        "### Agent 1 - equiprobable random policy (Example 3.5)\n",
        "First consider the `agent_uniform` that we have seen before, which has a equiprobable random policy."
      ]
    },
    {
      "cell_type": "code",
      "execution_count": null,
      "id": "6f87a695",
      "metadata": {
        "id": "6f87a695"
      },
      "outputs": [],
      "source": [
        "agent_uniform = RandomAgent(env.action_space, env.nA, env.nS) #an instantiation of an agent of the class RandomAgent\n"
      ]
    },
    {
      "cell_type": "code",
      "source": [
        "value_initial = np.zeros((5,5))\n",
        "value_initial\n"
      ],
      "metadata": {
        "id": "O_akeswDSfup"
      },
      "id": "O_akeswDSfup",
      "execution_count": null,
      "outputs": []
    },
    {
      "cell_type": "code",
      "source": [
        "value_o=np.array([[3.3,  8.8,  4.4, 5.3, 1.5],\n",
        "                  [1.5,   3.0,  2.3, 1.9, 0.5 ],\n",
        "                  [0.1,   0.7,  0.7, 0.4, -0.4],\n",
        "                  [-1.0,  -0.4, -0.4,-0.6, -1.2 ],\n",
        "                  [-1.9, -1.3,  -1.2, -1.4,  -2.0]]).ravel()"
      ],
      "metadata": {
        "id": "wDZm2MSWU1y2"
      },
      "id": "wDZm2MSWU1y2",
      "execution_count": null,
      "outputs": []
    },
    {
      "cell_type": "code",
      "source": [
        "plot_values(value_o,size=(5,5), name='State')"
      ],
      "metadata": {
        "id": "whgBoIE5frp5",
        "colab": {
          "base_uri": "https://localhost:8080/",
          "height": 472
        },
        "outputId": "60192bc7-a1ff-4948-ce3a-70e2b6b05a58"
      },
      "id": "whgBoIE5frp5",
      "execution_count": null,
      "outputs": [
        {
          "output_type": "display_data",
          "data": {
            "text/plain": [
              "<Figure size 576x576 with 2 Axes>"
            ],
            "image/png": "[encoded data removed]"
          },
          "metadata": {
            "needs_background": "light"
          }
        }
      ]
    },
    {
      "cell_type": "code",
      "source": [
        "new_value = Bellman_equation_RHS(env, agent_uniform, value_o)\n",
        "iter = 0\n",
        "while True:\n",
        "  iter += 1\n",
        "  if iter > 100:\n",
        "    break\n",
        "  new_value = Bellman_equation_RHS(env, agent_uniform, new_value)\n",
        "plot_values(new_value,size=(5,5), name='State')"
      ],
      "metadata": {
        "id": "vc9C5fnuSf5j"
      },
      "id": "vc9C5fnuSf5j",
      "execution_count": null,
      "outputs": []
    },
    {
      "cell_type": "markdown",
      "id": "1868f287",
      "metadata": {
        "id": "1868f287"
      },
      "source": [
        "Is the variable `new_value` a solution to Bellman's equation? Why, or why not?"
      ]
    },
    {
      "cell_type": "code",
      "source": [],
      "metadata": {
        "id": "j6eARJajge9W"
      },
      "id": "j6eARJajge9W",
      "execution_count": null,
      "outputs": []
    }
  ],
  "metadata": {
    "kernelspec": {
      "display_name": "Python 3",
      "language": "python",
      "name": "python3"
    },
    "language_info": {
      "codemirror_mode": {
        "name": "ipython",
        "version": 3
      },
      "file_extension": ".py",
      "mimetype": "text/x-python",
      "name": "python",
      "nbconvert_exporter": "python",
      "pygments_lexer": "ipython3",
      "version": "3.8.8"
    },
    "colab": {
      "provenance": []
    }
  },
  "nbformat": 4,
  "nbformat_minor": 5
}