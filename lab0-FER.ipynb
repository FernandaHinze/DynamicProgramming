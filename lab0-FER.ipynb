{
  "nbformat": 4,
  "nbformat_minor": 0,
  "metadata": {
    "colab": {
      "provenance": []
    },
    "kernelspec": {
      "name": "python3",
      "display_name": "Python 3"
    },
    "language_info": {
      "name": "python"
    }
  },
  "cells": [
    {
      "cell_type": "markdown",
      "source": [
        "# **Lab 0: An introduction to Python for scientific computing**\n",
        "\n",
        "Small modification of original material from https://ei.uni-paderborn.de/lea/lehre/veranstaltungen/lehrangebote/reinforcement-learning"
      ],
      "metadata": {
        "id": "tjlW4iXp8ZJH"
      }
    },
    {
      "cell_type": "markdown",
      "source": [
        "## 0.1 Common Libraries\n",
        "* Numpy (Vector and Matrix operations, Numeric computing)\n",
        "* Matplotlib (Plotting)\n",
        "* Pandas (Table operations)\n",
        "* Scikit-Learn (Machine Learning)\n",
        "* Tensorflow / PyTorch (Neural Networks)\n",
        "* Seaborn (Advanced Plotting)\n",
        "\n"
      ],
      "metadata": {
        "id": "wyWK7R6G9C3l"
      }
    },
    {
      "cell_type": "markdown",
      "source": [
        "*Notebooks*: a mixed between text with heading, lists, etc; formulae and (executable) code"
      ],
      "metadata": {
        "id": "NW_TTD8T9g43"
      }
    },
    {
      "cell_type": "markdown",
      "source": [
        "## 0.2 Jupyter notebooks (format .ipynb)\n",
        "\n",
        "They can be run locally in your computer: https://www.anaconda.com\n",
        "Or through the use of Google Colab.\n",
        "\n",
        "Documentation: https://jupyter-notebook.readthedocs.io/en/stable/\n",
        "\n",
        "Introduction to Jupyter Notebooks: [Youtube Video](https://www.youtube.com/embed/q_BzsPxwLOE)"
      ],
      "metadata": {
        "id": "YDxeu9WP9zmC"
      }
    },
    {
      "cell_type": "markdown",
      "source": [
        "# I Heading\n",
        "\n",
        "This is a markdown cell. (Double click on them to modify them)"
      ],
      "metadata": {
        "id": "ewwHDaNn-YRI"
      }
    },
    {
      "cell_type": "markdown",
      "source": [
        "## I.1 Sub-heading"
      ],
      "metadata": {
        "id": "MuZD2AHi-dPq"
      }
    },
    {
      "cell_type": "markdown",
      "source": [
        "### I.1.1 Sub-sub-heading"
      ],
      "metadata": {
        "id": "KuGcKn8J-kEg"
      }
    },
    {
      "cell_type": "markdown",
      "source": [
        "#### I.1.1.1 Sub-sub-sub-Heading"
      ],
      "metadata": {
        "id": "11z84cNk-trM"
      }
    },
    {
      "cell_type": "markdown",
      "source": [
        "### Enumeration\n",
        "\n",
        "* first point\n",
        "* second point\n",
        "* third point"
      ],
      "metadata": {
        "id": "F_0tePx_-zaW"
      }
    },
    {
      "cell_type": "markdown",
      "source": [
        "### Table\n",
        "\n",
        "| a | b | c |\n",
        "|---|---|---|\n",
        "|entry a|entry b|entry c|\n",
        "\n",
        "$\\log(f(x))$"
      ],
      "metadata": {
        "id": "xExN41K_-1CQ"
      }
    },
    {
      "cell_type": "markdown",
      "source": [
        "# 0.2 Overview of Python\n",
        "\n",
        "### Shortcuts for notebooks\n",
        "\n",
        "Shortcut | Command\n",
        "--- | ---\n",
        "Shift+Tab | Open Help\n",
        "Shift+Enter | Run cell and select next cell\n",
        "Alt+Enter | Run cell and insert cell below\n",
        "Strg+# | Convert marked lines into comments\n",
        "a | Insert cell above marked cell\n",
        "b | Insert cell below marked cell\n",
        "\n"
      ],
      "metadata": {
        "id": "UbcG5qWJ_X3V"
      }
    },
    {
      "cell_type": "markdown",
      "source": [
        "### Datatypes\n",
        "\n"
      ],
      "metadata": {
        "id": "48LubugNAEhJ"
      }
    },
    {
      "cell_type": "code",
      "source": [
        "integer = 6\n",
        "floatingpoint = 1.5\n",
        "string2 = \"ab'sj\"\n",
        "string3 = '''absj'''\n",
        "string4 = \"\"\"absj\"\"\"\n",
        "\n",
        "print('value:' + str(integer))\n",
        "print(f'value: {integer}')  # useful way of using print function, that can be implemented on loops where variables are constantly changing values"
      ],
      "metadata": {
        "colab": {
          "base_uri": "https://localhost:8080/"
        },
        "id": "G9nFASiO_kEl",
        "outputId": "a0467728-8222-4cc3-a21a-564d59e7ff54"
      },
      "execution_count": null,
      "outputs": [
        {
          "output_type": "stream",
          "name": "stdout",
          "text": [
            "value:6\n",
            "value: 6\n"
          ]
        }
      ]
    },
    {
      "cell_type": "markdown",
      "source": [
        "### Aritmethmetic Operations"
      ],
      "metadata": {
        "id": "P3Z8aoKTA0Ao"
      }
    },
    {
      "cell_type": "code",
      "source": [
        "1 + 1\n",
        "2 - 1\n",
        "#2 ** 2   # 2 to the power of 2 = 2 squared   \n",
        "#  on numoy, the code would be    numpy.pow(2,2)\n",
        "#10_000\n",
        "#2*10e4\n",
        "#1*10**4\n",
        "#41/2\n",
        "#40//2"
      ],
      "metadata": {
        "colab": {
          "base_uri": "https://localhost:8080/"
        },
        "id": "OncdQ6cg_fWO",
        "outputId": "3ea5c908-28be-4d4f-e615-526e5fbc2320"
      },
      "execution_count": null,
      "outputs": [
        {
          "output_type": "execute_result",
          "data": {
            "text/plain": [
              "1"
            ]
          },
          "metadata": {},
          "execution_count": 8
        }
      ]
    },
    {
      "cell_type": "markdown",
      "source": [
        "### Collections"
      ],
      "metadata": {
        "id": "9T2ZXKtZA96H"
      }
    },
    {
      "cell_type": "code",
      "source": [
        "# List\n",
        "\n",
        "l = [integer, '123', [1, 2, 3,4 ], 1 + 1j]\n",
        "print(l)"
      ],
      "metadata": {
        "colab": {
          "base_uri": "https://localhost:8080/"
        },
        "id": "ti2GyYgfA5kC",
        "outputId": "1d6b909d-0350-4050-c0fb-996bdf774145"
      },
      "execution_count": null,
      "outputs": [
        {
          "output_type": "stream",
          "name": "stdout",
          "text": [
            "[6, '123', [1, 2, 3, 4], (1+1j)]\n"
          ]
        }
      ]
    },
    {
      "cell_type": "code",
      "source": [
        "l.append(9)\n",
        "l"
      ],
      "metadata": {
        "colab": {
          "base_uri": "https://localhost:8080/"
        },
        "id": "ZPvGmuHKBAKn",
        "outputId": "7865c319-60f4-4ac7-9a43-176edf4e93a5"
      },
      "execution_count": null,
      "outputs": [
        {
          "output_type": "execute_result",
          "data": {
            "text/plain": [
              "[6, '123', [1, 2, 3, 4], (1+1j), 9]"
            ]
          },
          "metadata": {},
          "execution_count": 10
        }
      ]
    },
    {
      "cell_type": "code",
      "source": [
        "m = [30, 40]\n",
        "l.extend(m)\n",
        "l"
      ],
      "metadata": {
        "colab": {
          "base_uri": "https://localhost:8080/"
        },
        "id": "tsl3gncBBJct",
        "outputId": "556629ad-3271-470a-d9d2-cfe1e0311582"
      },
      "execution_count": null,
      "outputs": [
        {
          "output_type": "execute_result",
          "data": {
            "text/plain": [
              "[6, '123', [1, 2, 3, 4], (1+1j), 9, 30, 40]"
            ]
          },
          "metadata": {},
          "execution_count": 11
        }
      ]
    },
    {
      "cell_type": "code",
      "source": [
        "# Indexing and Slicing\n",
        "\n",
        "print(l[0])\n",
        "print(l[-1])\n",
        "print(l[0:-1]) # start from the begining, do not include last element\n",
        "print(l[0:-1:2]) # start from the begining, do not include last element, but every 2 elements\n",
        "print(l[::2])"
      ],
      "metadata": {
        "colab": {
          "base_uri": "https://localhost:8080/"
        },
        "id": "BWB_p5wfBMjl",
        "outputId": "33d3724a-6fbd-4b2b-ca89-471691f352bb"
      },
      "execution_count": null,
      "outputs": [
        {
          "output_type": "stream",
          "name": "stdout",
          "text": [
            "6\n",
            "40\n",
            "[6, '123', [1, 2, 3, 4], (1+1j), 9, 30]\n",
            "[6, [1, 2, 3, 4], 9]\n",
            "[6, [1, 2, 3, 4], 9, 40]\n"
          ]
        }
      ]
    },
    {
      "cell_type": "code",
      "source": [
        "# Tuple\n",
        "t = (1, 2, 3)\n",
        "print(t)"
      ],
      "metadata": {
        "colab": {
          "base_uri": "https://localhost:8080/"
        },
        "id": "UsLuLKqzBPPr",
        "outputId": "314ba025-1292-43a0-ee34-3a81287f8473"
      },
      "execution_count": null,
      "outputs": [
        {
          "output_type": "stream",
          "name": "stdout",
          "text": [
            "(1, 2, 3)\n"
          ]
        }
      ]
    },
    {
      "cell_type": "code",
      "source": [
        "# Collection operations (Be careful):\n",
        "t2  = (9, 8, 7)\n",
        "print(t + t2)\n",
        "print(t * 3) # Can you explain what happen on this case?"
      ],
      "metadata": {
        "colab": {
          "base_uri": "https://localhost:8080/"
        },
        "id": "U-dvWX_lBYI3",
        "outputId": "d4c70c8d-f96b-4178-b986-a2e72dbf18bc"
      },
      "execution_count": null,
      "outputs": [
        {
          "output_type": "stream",
          "name": "stdout",
          "text": [
            "(1, 2, 3, 9, 8, 7)\n",
            "(1, 2, 3, 1, 2, 3, 1, 2, 3)\n"
          ]
        }
      ]
    },
    {
      "cell_type": "code",
      "source": [
        "# Dictionary\n",
        "dictionary = {\n",
        "    'a': 1,\n",
        "    2: 'b',\n",
        "    'c': 3,\n",
        "}\n",
        "dictionary"
      ],
      "metadata": {
        "colab": {
          "base_uri": "https://localhost:8080/"
        },
        "id": "MwV1KKj6Bamh",
        "outputId": "e9073dc5-97c4-444e-9c12-20e8a88e395a"
      },
      "execution_count": null,
      "outputs": [
        {
          "output_type": "execute_result",
          "data": {
            "text/plain": [
              "{'a': 1, 2: 'b', 'c': 3}"
            ]
          },
          "metadata": {},
          "execution_count": 15
        }
      ]
    },
    {
      "cell_type": "code",
      "source": [
        "dictionary[2]"
      ],
      "metadata": {
        "colab": {
          "base_uri": "https://localhost:8080/",
          "height": 37
        },
        "id": "w03jqR9KBtZK",
        "outputId": "6cfb170f-d8f1-4635-fbca-b533b9146b31"
      },
      "execution_count": null,
      "outputs": [
        {
          "output_type": "execute_result",
          "data": {
            "text/plain": [
              "'b'"
            ],
            "application/vnd.google.colaboratory.intrinsic+json": {
              "type": "string"
            }
          },
          "metadata": {},
          "execution_count": 16
        }
      ]
    },
    {
      "cell_type": "code",
      "source": [
        "dictionary.keys()"
      ],
      "metadata": {
        "colab": {
          "base_uri": "https://localhost:8080/"
        },
        "id": "bVdzuGl8BwDm",
        "outputId": "d8322d20-884b-4cf5-9a9b-fcecf4e77fc0"
      },
      "execution_count": null,
      "outputs": [
        {
          "output_type": "execute_result",
          "data": {
            "text/plain": [
              "dict_keys(['a', 2, 'c'])"
            ]
          },
          "metadata": {},
          "execution_count": 16
        }
      ]
    },
    {
      "cell_type": "code",
      "source": [
        "dictionary.values()"
      ],
      "metadata": {
        "colab": {
          "base_uri": "https://localhost:8080/"
        },
        "id": "bSGSq8TGByTl",
        "outputId": "5f8ff927-525f-4114-d6b3-43ef2e6c5769"
      },
      "execution_count": null,
      "outputs": [
        {
          "output_type": "execute_result",
          "data": {
            "text/plain": [
              "dict_values([1, 'b', 3])"
            ]
          },
          "metadata": {},
          "execution_count": 17
        }
      ]
    },
    {
      "cell_type": "code",
      "source": [
        "dictionary.items()"
      ],
      "metadata": {
        "colab": {
          "base_uri": "https://localhost:8080/"
        },
        "id": "S3ljGSZ9B0tg",
        "outputId": "3f7cf42f-a89a-4932-e511-964c64d4034d"
      },
      "execution_count": null,
      "outputs": [
        {
          "output_type": "execute_result",
          "data": {
            "text/plain": [
              "dict_items([('a', 1), (2, 'b'), ('c', 3)])"
            ]
          },
          "metadata": {},
          "execution_count": 18
        }
      ]
    },
    {
      "cell_type": "code",
      "source": [
        "dictionary = {}"
      ],
      "metadata": {
        "id": "AF3ueNH9B5ev"
      },
      "execution_count": null,
      "outputs": []
    },
    {
      "cell_type": "markdown",
      "source": [
        "* [**values( )**](https://docs.python.org/3.6/library/stdtypes.html?highlight=set%20union#mapping-types-dict) function returns a list with all the assigned values in the dictionary. (Actually not quite a list, but something that we can iterate over just like a list to construct a list, tuple or any other collection)\n",
        "* [**keys( )**](https://docs.python.org/3.6/library/stdtypes.html?highlight=set%20union#mapping-types-dict) function returns all the index or the keys to which contains the values that it was assigned to.\n",
        "* [**items( )**](https://docs.python.org/3.6/library/stdtypes.html?highlight=set%20union#mapping-types-dict) is returns a list containing both the list but each element in the dictionary is inside a tuple. This is same as the result that was obtained when zip function was used - except that the ordering has been 'shuffled' by the dictionary.\n",
        "* [**pop( )**](https://docs.python.org/3.6/library/stdtypes.html?highlight=set%20union#mapping-types-dict) function is used to get the remove that particular element and this removed element can be assigned to a new variable. But remember only the value is stored and not the key. Because the is just a index value."
      ],
      "metadata": {
        "id": "a-UhdSX56MWb"
      }
    },
    {
      "cell_type": "markdown",
      "source": [
        "### Conditionals"
      ],
      "metadata": {
        "id": "Vhr1w-g-CCiW"
      }
    },
    {
      "cell_type": "code",
      "source": [
        "a = 16\n",
        "if a <= 2:\n",
        "    b = 2\n",
        "elif a < 10:\n",
        "    b = 3\n",
        "else:\n",
        "    b = 4\n",
        "b "
      ],
      "metadata": {
        "colab": {
          "base_uri": "https://localhost:8080/"
        },
        "id": "8-Tb3GO3B93f",
        "outputId": "ede1e449-1269-482d-a86f-4c503d894442"
      },
      "execution_count": null,
      "outputs": [
        {
          "output_type": "execute_result",
          "data": {
            "text/plain": [
              "4"
            ]
          },
          "metadata": {},
          "execution_count": 22
        }
      ]
    },
    {
      "cell_type": "code",
      "source": [
        "if (a == 2) and (b == 3):\n",
        "    c = 3"
      ],
      "metadata": {
        "id": "YGWqzpCvCFQl"
      },
      "execution_count": null,
      "outputs": []
    },
    {
      "cell_type": "markdown",
      "source": [
        "### Loops"
      ],
      "metadata": {
        "id": "a4F-GoLUCP8g"
      }
    },
    {
      "cell_type": "code",
      "source": [
        "l = list(range(5))\n",
        "l2 = []\n",
        "for entry in l:\n",
        "    print(entry ** 2)\n",
        "    l2.append(entry ** 2)\n",
        "\n",
        "for index in range(len(l)):\n",
        "    print(l[index] ** 2)\n",
        "    l2.append(l[index] ** 2)\n",
        "    \n",
        "for index, entry in enumerate(l):\n",
        "    print(entry ** 2)\n",
        "    l2.append(entry ** 2)\n",
        "    \n",
        "print(l2)\n",
        "    \n",
        "l"
      ],
      "metadata": {
        "colab": {
          "base_uri": "https://localhost:8080/"
        },
        "id": "33wUpP94CKsz",
        "outputId": "219cdccf-80e5-4fbb-e5c0-6a343e3cd4bf"
      },
      "execution_count": null,
      "outputs": [
        {
          "output_type": "stream",
          "name": "stdout",
          "text": [
            "0\n",
            "1\n",
            "4\n",
            "9\n",
            "16\n",
            "0\n",
            "1\n",
            "4\n",
            "9\n",
            "16\n",
            "0\n",
            "1\n",
            "4\n",
            "9\n",
            "16\n",
            "[0, 1, 4, 9, 16, 0, 1, 4, 9, 16, 0, 1, 4, 9, 16]\n"
          ]
        },
        {
          "output_type": "execute_result",
          "data": {
            "text/plain": [
              "[0, 1, 2, 3, 4]"
            ]
          },
          "metadata": {},
          "execution_count": 25
        }
      ]
    },
    {
      "cell_type": "markdown",
      "source": [
        "### [Functions](https://docs.python.org/3/tutorial/controlflow.html#defining-functions)"
      ],
      "metadata": {
        "id": "7N4YuXDzxYrO"
      }
    },
    {
      "cell_type": "code",
      "source": [
        "def sub(a_val, b_val):\n",
        "    \"\"\"Calculate a - b\"\"\"\n",
        "    return a_val - b_val\n",
        "\n",
        "a = 2\n",
        "b = 1\n",
        "\n",
        "print(sub(a, b))\n",
        "print(sub(b, a))\n",
        "print(sub(b_val=b, a_val=a))\n",
        "print(sub(a_val=a, b_val=b))"
      ],
      "metadata": {
        "id": "OIP3AXyWCfr1",
        "colab": {
          "base_uri": "https://localhost:8080/"
        },
        "outputId": "cf050141-f09e-4b3a-8e5e-a615174061dd"
      },
      "execution_count": null,
      "outputs": [
        {
          "output_type": "stream",
          "name": "stdout",
          "text": [
            "1\n",
            "-1\n",
            "1\n",
            "1\n"
          ]
        }
      ]
    },
    {
      "cell_type": "markdown",
      "source": [
        "* [Return Statement](https://docs.python.org/3/reference/simple_stmts.html#grammar-token-return_stmt) : When the function results in some value and that value has to be stored in a variable or needs to be sent back or returned for further operation to the main algorithm, a return statement is used.\n",
        "* [Default arguments](https://docs.python.org/3/tutorial/controlflow.html#default-argument-values): When an argument of a function is common in majority of the cases this can be specified with a default value. This is also called an implicit argument.\n",
        "\n"
      ],
      "metadata": {
        "id": "ohCn3ypj7gjN"
      }
    },
    {
      "cell_type": "code",
      "source": [
        "def implicitadd(x,y=3,z=0):\n",
        "    print(\"%d + %d + %d = %d\"%(x,y,z,x+y+z))\n",
        "    return x+y+z"
      ],
      "metadata": {
        "id": "fLu05OmRxphh"
      },
      "execution_count": null,
      "outputs": []
    },
    {
      "cell_type": "code",
      "source": [
        "implicitadd(5)"
      ],
      "metadata": {
        "colab": {
          "base_uri": "https://localhost:8080/"
        },
        "id": "bbQLvD-N7896",
        "outputId": "4562a022-8c59-44ed-f7ff-236b1aba9021"
      },
      "execution_count": null,
      "outputs": [
        {
          "output_type": "stream",
          "name": "stdout",
          "text": [
            "5 + 3 + 0 = 8\n"
          ]
        },
        {
          "output_type": "execute_result",
          "data": {
            "text/plain": [
              "8"
            ]
          },
          "metadata": {},
          "execution_count": 31
        }
      ]
    },
    {
      "cell_type": "markdown",
      "source": [
        "* [Any number of arguments](https://docs.python.org/3/tutorial/controlflow.html#arbitrary-argument-lists): If the number of arguments that is to be accepted by a function is not known then a asterisk symbol is used before the name of the argument to hold the remainder of the arguments. The following function requires at least one argument but can have many more."
      ],
      "metadata": {
        "id": "BAnvSsGF8CpO"
      }
    },
    {
      "cell_type": "code",
      "source": [
        "def add_n(first,*args):\n",
        "    \"return the sum of one or more numbers\"\n",
        "    reslist = [first] + [value for value in args]\n",
        "    print(reslist)\n",
        "    return sum(reslist)"
      ],
      "metadata": {
        "id": "Hi5RwMgR8OBV"
      },
      "execution_count": null,
      "outputs": []
    },
    {
      "cell_type": "code",
      "source": [
        "add_n(1,2,3,4,5)"
      ],
      "metadata": {
        "colab": {
          "base_uri": "https://localhost:8080/"
        },
        "id": "Vkudf8Cz8QuF",
        "outputId": "e904f057-905c-4cf5-a429-f2867352e9e2"
      },
      "execution_count": null,
      "outputs": [
        {
          "output_type": "stream",
          "name": "stdout",
          "text": [
            "[1, 2, 3, 4, 5]\n"
          ]
        },
        {
          "output_type": "execute_result",
          "data": {
            "text/plain": [
              "15"
            ]
          },
          "metadata": {},
          "execution_count": 33
        }
      ]
    },
    {
      "cell_type": "markdown",
      "source": [
        "Arbitrary numbers of named arguments can also be accepted using `**`. When the function is called all of the additional named arguments are provided in a dictionary "
      ],
      "metadata": {
        "id": "OUTr75CF8Xyr"
      }
    },
    {
      "cell_type": "code",
      "source": [
        "def namedArgs(**names):\n",
        "    'print the named arguments'\n",
        "    # names is a dictionary of keyword : value\n",
        "    print(\"  \".join(name+\"=\"+str(value) \n",
        "                    for name,value in names.items()))\n",
        "\n",
        "namedArgs(x=3*4,animal='mouse',z=(1+2j))"
      ],
      "metadata": {
        "colab": {
          "base_uri": "https://localhost:8080/"
        },
        "id": "75o-MoAj8ZNn",
        "outputId": "60784f32-afae-4743-97c4-3814989e167a"
      },
      "execution_count": null,
      "outputs": [
        {
          "output_type": "stream",
          "name": "stdout",
          "text": [
            "x=12  animal=mouse  z=(1+2j)\n"
          ]
        }
      ]
    },
    {
      "cell_type": "markdown",
      "source": [
        "* [Lambda Functions](https://docs.python.org/3/tutorial/controlflow.html#lambda-expressions): These are small functions which are not defined with any name and carry a single expression whose result is returned. Lambda functions comes very handy when operating with lists. These function are defined by the keyword **lambda** followed by the variables, a colon and the respective expression."
      ],
      "metadata": {
        "id": "TWGmvGIc8htM"
      }
    },
    {
      "cell_type": "code",
      "source": [
        "z = lambda x: x * x\n",
        "z(9)"
      ],
      "metadata": {
        "colab": {
          "base_uri": "https://localhost:8080/"
        },
        "id": "UdzjHHOV8ubO",
        "outputId": "51d5064b-9816-4c7b-fc51-895a70de2328"
      },
      "execution_count": null,
      "outputs": [
        {
          "output_type": "execute_result",
          "data": {
            "text/plain": [
              "81"
            ]
          },
          "metadata": {},
          "execution_count": 35
        }
      ]
    },
    {
      "cell_type": "markdown",
      "source": [
        "### Classes"
      ],
      "metadata": {
        "id": "MlJwUkIjxzmk"
      }
    },
    {
      "cell_type": "code",
      "source": [
        "class Dog:\n",
        "    \"\"\"Represents a dog.\"\"\"\n",
        "    def __init__(self, name):\n",
        "        self.name = name\n",
        "        \n",
        "    def sit(self):\n",
        "        print(self.name, 'is sitting.')\n",
        "\n",
        "   # def  roll(self):\n",
        "      \n",
        "      # complete here\n",
        "        \n",
        "dog = Dog('Lucky')\n",
        "dog2 = Dog('Walt')"
      ],
      "metadata": {
        "id": "o2Rw8CDKx09L"
      },
      "execution_count": null,
      "outputs": []
    },
    {
      "cell_type": "code",
      "source": [
        "dog.sit()\n",
        "dog2.sit()"
      ],
      "metadata": {
        "colab": {
          "base_uri": "https://localhost:8080/"
        },
        "id": "IncVZT11x3m9",
        "outputId": "04e3fd81-509a-4d7f-b6ea-e995fdbfeedc"
      },
      "execution_count": null,
      "outputs": [
        {
          "output_type": "stream",
          "name": "stdout",
          "text": [
            "Lucky is sitting.\n",
            "Walt is sitting.\n"
          ]
        }
      ]
    },
    {
      "cell_type": "markdown",
      "source": [
        "## Function and Classes exercise\n",
        "Write a class `Cat` with an init function that takes `breed` as argument and sets the same attribute.\n",
        "\n",
        "If the `breed` argument is neither 'Balinese' nor 'Bengal', an error statement is to be printed.\n",
        "\n",
        "Give the cat a function `pet()`: If the cat is balinese, print 'meow', if the cat is bengal, print 'purr'.\n",
        "\n"
      ],
      "metadata": {
        "id": "kKymgOeyyFKg"
      }
    },
    {
      "cell_type": "code",
      "source": [
        "### BEGIN SOLUTION\n",
        "class Cat:\n",
        "    \n",
        "    def __init__(self, breed):\n",
        "        assert breed in ['Balinese', 'Bengal'], 'breed not understood'\n",
        "        self.breed = breed\n",
        "        \n",
        "    def pet(self):\n",
        "        if self.breed == 'Balinese':\n",
        "            print('meow')\n",
        "        elif self.breed == 'Bengal':\n",
        "            print('purr')\n",
        "        else:\n",
        "            print('??')\n",
        "### END SOLUTION"
      ],
      "metadata": {
        "id": "vUS-hQBcx7-Q"
      },
      "execution_count": null,
      "outputs": []
    },
    {
      "cell_type": "markdown",
      "source": [
        "Create a class `CrazyCatLady` which initializes without arguments an attribute `cats`, which is a list of 5 balinese and 10 bengal cats.\n",
        "\n",
        "Create a class-function `throw`, which removes one cat from her set of cats.\n",
        "\n",
        "Create a class-function `talk_to_cats`, which returns a dictionary of her remaining cats with keys being random names and values being the corresponding cat. "
      ],
      "metadata": {
        "id": "E-gnWPDqyYAN"
      }
    },
    {
      "cell_type": "code",
      "source": [
        "import random\n",
        "### BEGIN SOLUTION\n",
        "class CrazyCatLady:\n",
        "    \n",
        "    cat_names = ['Oscar', 'Max', 'Tiger', 'Sam', 'Misty', 'Simba', \n",
        "                 'Coco'\t, 'Chloe', 'Lucy' ,  'Missy', 'Molly', 'Tigger', \n",
        "                 'Smokey', 'Milo', 'Cleo']\n",
        "    \n",
        "    def __init__(self):\n",
        "        self.cats = 5*[Cat('Balinese')] + 10*[Cat('Bengal')]\n",
        "    \n",
        "    def throw(self):\n",
        "        self.cats.pop()\n",
        "    \n",
        "    def talk_to_cats(self):\n",
        "       return {n: cat for n, cat in zip(random.choices(self.cat_names, k=len(self.cats)), self.cats)}\n",
        "        \n",
        "### END SOLUTION\n",
        "ccl = CrazyCatLady()\n",
        "ccl.throw()\n",
        "ccl.throw()\n",
        "ccl.talk_to_cats()"
      ],
      "metadata": {
        "colab": {
          "base_uri": "https://localhost:8080/"
        },
        "id": "dzerLVm6yQAs",
        "outputId": "39f1cfe7-aaae-4471-b31a-02cbdb7227a5"
      },
      "execution_count": null,
      "outputs": [
        {
          "output_type": "execute_result",
          "data": {
            "text/plain": [
              "{'Cleo': <__main__.Cat at 0x7fd6c75e8730>,\n",
              " 'Tigger': <__main__.Cat at 0x7fd6c75e85e0>,\n",
              " 'Molly': <__main__.Cat at 0x7fd6c75e8730>,\n",
              " 'Oscar': <__main__.Cat at 0x7fd6c75e8730>,\n",
              " 'Smokey': <__main__.Cat at 0x7fd6c75e8730>,\n",
              " 'Sam': <__main__.Cat at 0x7fd6c75e8730>,\n",
              " 'Chloe': <__main__.Cat at 0x7fd6c75e8730>,\n",
              " 'Coco': <__main__.Cat at 0x7fd6c75e8730>}"
            ]
          },
          "metadata": {},
          "execution_count": 21
        }
      ]
    },
    {
      "cell_type": "markdown",
      "source": [
        "### Numerical computing\n",
        "\n",
        "Matrix Multiplication.\n",
        "Program the multiplication of the matrices with `for` loops:"
      ],
      "metadata": {
        "id": "nnvsK7rv1S9x"
      }
    },
    {
      "cell_type": "code",
      "source": [
        "A = [\n",
        "    [1, 2, 3],\n",
        "    [4, 5, 6],\n",
        "]\n",
        "B = [\n",
        "    [7, 8],\n",
        "    [9, 10],\n",
        "    [11, 12],\n",
        "]\n",
        "C = [\n",
        "    [0, 0],\n",
        "    [0, 0],\n",
        "]\n",
        "\n",
        "# C = A * B\n",
        "for i, a_ in enumerate(A):\n",
        "    for a, b_ in zip(a_, B):\n",
        "        for j, b in enumerate(b_):\n",
        "            C[i][j] += a * b\n",
        "\n",
        "C"
      ],
      "metadata": {
        "colab": {
          "base_uri": "https://localhost:8080/"
        },
        "id": "vWQd8tDy1WJS",
        "outputId": "276adb41-5cce-42ab-a38b-99b779745d2e"
      },
      "execution_count": null,
      "outputs": [
        {
          "output_type": "execute_result",
          "data": {
            "text/plain": [
              "[[58, 64], [139, 154]]"
            ]
          },
          "metadata": {},
          "execution_count": 22
        }
      ]
    },
    {
      "cell_type": "code",
      "source": [
        "import numpy as np\n",
        "np.matmul(A, B)"
      ],
      "metadata": {
        "colab": {
          "base_uri": "https://localhost:8080/"
        },
        "id": "EBmjp17E1cLE",
        "outputId": "9d40e746-1735-4738-a7f5-1e383694c4cf"
      },
      "execution_count": null,
      "outputs": [
        {
          "output_type": "execute_result",
          "data": {
            "text/plain": [
              "array([[ 58,  64],\n",
              "       [139, 154]])"
            ]
          },
          "metadata": {},
          "execution_count": 23
        }
      ]
    },
    {
      "cell_type": "markdown",
      "source": [
        "## Mathematical functions\n",
        "Mathematical functions include the usual suspects like logarithms, trigonometric fuctions, the constant $\\pi$ and so on."
      ],
      "metadata": {
        "id": "JxjJ8uk42BfA"
      }
    },
    {
      "cell_type": "code",
      "source": [
        "import math\n",
        "math.sin(math.pi/2)\n",
        "from math import * # avoid having to put a math. in front of every mathematical function\n",
        "sin(pi/2) # equivalent to the statement above"
      ],
      "metadata": {
        "colab": {
          "base_uri": "https://localhost:8080/"
        },
        "id": "wC5lTqaU1iGv",
        "outputId": "4877d0a2-b530-491e-a96a-cd4cc022ee37"
      },
      "execution_count": null,
      "outputs": [
        {
          "output_type": "execute_result",
          "data": {
            "text/plain": [
              "1.0"
            ]
          },
          "metadata": {},
          "execution_count": 24
        }
      ]
    },
    {
      "cell_type": "markdown",
      "source": [
        "## Simplifying Arithmetic Operations\n",
        "[**round( )**](https://docs.python.org/3/library/functions.html#round) function rounds the input value to a specified number of places or to the nearest integer. \n",
        "\n",
        "```\n",
        "# This is formatted as code\n",
        "```\n",
        "\n"
      ],
      "metadata": {
        "id": "5ZnMxoa12Pr2"
      }
    },
    {
      "cell_type": "code",
      "source": [
        "print( round(5.6231) )\n",
        "print( round(4.55892, 2) )"
      ],
      "metadata": {
        "colab": {
          "base_uri": "https://localhost:8080/"
        },
        "id": "gtl5oswh2GdG",
        "outputId": "fa492f85-9a08-4920-b011-f0d972745880"
      },
      "execution_count": null,
      "outputs": [
        {
          "output_type": "stream",
          "name": "stdout",
          "text": [
            "6\n",
            "4.56\n"
          ]
        }
      ]
    },
    {
      "cell_type": "code",
      "source": [],
      "metadata": {
        "id": "zkq6PjA12VH-"
      },
      "execution_count": null,
      "outputs": []
    },
    {
      "cell_type": "markdown",
      "source": [
        "#### Other special (in-built) functions\n",
        "\n",
        "* To find the length of the list or the number of elements in a list, [**len( )**](https://docs.python.org/3/library/functions.html#len) is used.\n",
        "* If the list consists of all integer elements then [**min( )**](https://docs.python.org/3/library/functions.html#min) and [**max( )**](https://docs.python.org/3/library/functions.html#max) gives the minimum and maximum value in the list. Similarly [**sum**](https://docs.python.org/3/library/functions.html#sum) is the sum\n",
        "* [**append( )**](https://docs.python.org/3.6/tutorial/datastructures.html) is used to add a single element at the end of the list.\n",
        "* "
      ],
      "metadata": {
        "id": "PAiMlxpP3BDg"
      }
    },
    {
      "cell_type": "markdown",
      "source": [
        "#### [List comprehension](https://docs.python.org/3/tutorial/datastructures.html#list-comprehensions)\n",
        "A very powerful concept in Python (that also applies to Tuples, sets and dictionaries as we will see below), is the ability to define lists using list comprehension (looping) expression. For example:"
      ],
      "metadata": {
        "id": "VoBJa_Ro47n8"
      }
    },
    {
      "cell_type": "code",
      "source": [
        "[i**2 for i in [1,2,3]]"
      ],
      "metadata": {
        "colab": {
          "base_uri": "https://localhost:8080/"
        },
        "id": "olSdPRxt44q5",
        "outputId": "bdc68b2f-7982-4dbb-a1c0-9b084fb83354"
      },
      "execution_count": null,
      "outputs": [
        {
          "output_type": "execute_result",
          "data": {
            "text/plain": [
              "[1, 4, 9]"
            ]
          },
          "metadata": {},
          "execution_count": 26
        }
      ]
    },
    {
      "cell_type": "code",
      "source": [
        "[10*i+j for i in [1,2,3] if i%2==1 for j in [4,5,7] if j >= i+4] # keep odd i and  j larger than i+3 only"
      ],
      "metadata": {
        "colab": {
          "base_uri": "https://localhost:8080/"
        },
        "id": "v5MGbiDU5A8j",
        "outputId": "bb38e236-b280-49db-8ecd-21c776a26eba"
      },
      "execution_count": null,
      "outputs": [
        {
          "output_type": "execute_result",
          "data": {
            "text/plain": [
              "[15, 17, 37]"
            ]
          },
          "metadata": {},
          "execution_count": 27
        }
      ]
    },
    {
      "cell_type": "markdown",
      "source": [
        "### [Catching exceptions](https://docs.python.org/3/reference/compound_stmts.html#try)\n",
        "\n",
        "To break out of deeply nested exectution sometimes it is useful to raise an exception.\n",
        "A try block allows you to catch exceptions that happen anywhere during the execution of the try block:\n"
      ],
      "metadata": {
        "id": "kcAPz-RB5qPJ"
      }
    },
    {
      "cell_type": "code",
      "source": [
        "try:\n",
        "    count=0\n",
        "    while True:\n",
        "        while True:\n",
        "            while True:\n",
        "                print(\"Looping\")\n",
        "                count = count + 1\n",
        "                if count > 3:\n",
        "                    raise Exception(\"abort\") # exit every loop or function\n",
        "except Exception as e: # this is where we go when an exception is raised\n",
        "    print(\"Caught exception:\",e)"
      ],
      "metadata": {
        "colab": {
          "base_uri": "https://localhost:8080/"
        },
        "id": "Ow7EzS7d58dh",
        "outputId": "662b108f-52a0-4a02-e578-744d72cabf98"
      },
      "execution_count": null,
      "outputs": [
        {
          "output_type": "stream",
          "name": "stdout",
          "text": [
            "Looping\n",
            "Looping\n",
            "Looping\n",
            "Looping\n",
            "Caught exception: abort\n"
          ]
        }
      ]
    },
    {
      "cell_type": "code",
      "source": [
        "try:\n",
        "    for i in [2,1.5,0.0,3]:\n",
        "        inverse = 1.0/i\n",
        "except: # no matter what exception\n",
        "    print(\"Cannot calculate inverse\")"
      ],
      "metadata": {
        "colab": {
          "base_uri": "https://localhost:8080/"
        },
        "id": "pM_rFE4b7IGZ",
        "outputId": "323f4381-4b77-437e-e31f-245513d944b7"
      },
      "execution_count": null,
      "outputs": [
        {
          "output_type": "stream",
          "name": "stdout",
          "text": [
            "Cannot calculate inverse\n"
          ]
        }
      ]
    },
    {
      "cell_type": "code",
      "source": [],
      "metadata": {
        "id": "CH41KpYI7LHl"
      },
      "execution_count": null,
      "outputs": []
    }
  ]
}